{
 "cells": [
  {
   "cell_type": "code",
   "execution_count": 1,
   "metadata": {},
   "outputs": [],
   "source": [
    "class Pet():\n",
    "  def __init__(self, name, age = 5):\n",
    "    self.name = name\n",
    "    self.age = age\n",
    "    self.owner = \"no one\"\n",
    "    self.is_trained = False\n",
    "\n",
    "  def __str__(self):\n",
    "    return f\"Hi I am {self.age}yrs and my name is {self.name}.\\nI am{' ' if self.is_trained else ' not '}house trained and {self.owner} owns me.\"\n",
    "\n",
    "  def set_owner(self, owner):\n",
    "    self.owner = owner\n",
    "\n",
    "  def train(self):\n",
    "    self.is_trained = True"
   ]
  },
  {
   "cell_type": "code",
   "execution_count": 2,
   "metadata": {},
   "outputs": [
    {
     "name": "stdout",
     "output_type": "stream",
     "text": [
      "1:Hi I am 3yrs and my name is Garfield.\n",
      "I am not house trained and no one owns me.\n",
      "2:no one\n",
      "3:Jon\n",
      "4:Hi I am 3yrs and my name is Garfield.\n",
      "I am house trained and Jon owns me.\n",
      "\n",
      "5:Hi I am 3yrs and my name is Garfield.\n",
      "I am house trained and Jon owns me.\n",
      "\n",
      "6:Hi I am 2yrs and my name is Beethoven.\n",
      "I am not house trained and no one owns me.\n",
      "\n",
      "7:Hi I am 5yrs and my name is Jake.\n",
      "I am not house trained and no one owns me.\n",
      "\n",
      "8:Hi I am 7yrs and my name is Stuart.\n",
      "I am not house trained and no one owns me.\n"
     ]
    }
   ],
   "source": [
    "#test harness\n",
    "garfield = Pet('Garfield', 3)\n",
    "x = 1\n",
    "print(f'{x}:{garfield}')\n",
    "x = 2\n",
    "print(f'{x}:{garfield.owner}')\n",
    "\n",
    "garfield.set_owner('Jon')\n",
    "x = 3\n",
    "print(f'{x}:{garfield.owner}')\n",
    "\n",
    "garfield.train()\n",
    "x = 4\n",
    "print(f'{x}:{garfield}')\n",
    "\n",
    "#create a list with about 4 pets\n",
    "pets = [garfield, Pet('Beethoven', 2), Pet('Jake'), Pet('Stuart', 7)]\n",
    "for p in pets:\n",
    "    x += 1\n",
    "    print(f'\\n{x}:{p}')\n"
   ]
  }
 ],
 "metadata": {
  "kernelspec": {
   "display_name": "base",
   "language": "python",
   "name": "python3"
  },
  "language_info": {
   "codemirror_mode": {
    "name": "ipython",
    "version": 3
   },
   "file_extension": ".py",
   "mimetype": "text/x-python",
   "name": "python",
   "nbconvert_exporter": "python",
   "pygments_lexer": "ipython3",
   "version": "3.9.18"
  }
 },
 "nbformat": 4,
 "nbformat_minor": 2
}
