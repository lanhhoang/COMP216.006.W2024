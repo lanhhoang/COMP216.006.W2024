{
  "cells": [
    {
      "cell_type": "markdown",
      "metadata": {
        "id": "qIRdAjCynKxt"
      },
      "source": [
        "<H1>COMP216 Lab exercise 1</h1>"
      ]
    },
    {
      "cell_type": "markdown",
      "metadata": {
        "id": "lJ0h4EvZnKxx"
      },
      "source": [
        "<h5> Please insert your name, student number, course and date </h5>\n",
        "\n",
        "\n",
        "#Name: Cong Lanh Hoang\n",
        "\n",
        "#Student number: 301210743\n",
        "\n",
        "#Course: COMP 216 Section 006\n",
        "\n",
        "#Date: Jan 29, 2024"
      ]
    },
    {
      "cell_type": "markdown",
      "metadata": {
        "id": "PyxdDqXTnKxy"
      },
      "source": [
        "\n",
        "\n",
        "<h3>Instructions</h3>\n",
        "\n",
        "1. Complete the exercises as far as you possibly can\n",
        "\n",
        "2. Rename the workbook to your first name  \n",
        "\n",
        "3. Make sure that the notebook is shareable\n",
        "\n",
        "4. Upload a link to the Assessment folder in brightspace  \n",
        "\n",
        "5. You code must work even if the original variable changes\n",
        "\n",
        "\n",
        "\n"
      ]
    },
    {
      "cell_type": "code",
      "execution_count": 4,
      "metadata": {
        "id": "ajRvcINZnKxy"
      },
      "outputs": [],
      "source": [
        "#imports and variables\n",
        "from random import randint\n",
        "\n",
        "pm = 'justin pierre james trudeau'\n",
        "instructor = 'Sajeeva Salgadoe'\n",
        "harry = \"You've gotta ask yourself a question: how are you today?\"\n",
        "numbers = [randint(5, 10) for _ in range(20)]\n"
      ]
    },
    {
      "cell_type": "markdown",
      "metadata": {
        "id": "MOPA6UhbnKx0"
      },
      "source": [
        "<h3> Working with sets </h3>"
      ]
    },
    {
      "cell_type": "code",
      "execution_count": 5,
      "metadata": {
        "id": "XTLyxnmQnKx0"
      },
      "outputs": [
        {
          "name": "stdout",
          "output_type": "stream",
          "text": [
            "{'d', 'v', 'S', 'j', 'a', 'e', 'l', 'g', 'o', ' '}\n"
          ]
        }
      ],
      "source": [
        "# - 2 mark\n",
        "# create a set from the variable 'instructor' and print it\n",
        "instructor_set = set(instructor)\n",
        "print(instructor_set)"
      ]
    },
    {
      "cell_type": "code",
      "execution_count": 6,
      "metadata": {
        "id": "IHbUClshnKx0"
      },
      "outputs": [
        {
          "name": "stdout",
          "output_type": "stream",
          "text": [
            "{'d', 'v', 'S', 'j', 'a', 'e', 'l', 'g', 'o', ' ', 'z'}\n"
          ]
        }
      ],
      "source": [
        "# - 2 mark\n",
        "# use the add() method to add 'z' to the set and print it\n",
        "instructor_set.add(\"z\")\n",
        "print(instructor_set)"
      ]
    },
    {
      "cell_type": "code",
      "execution_count": 7,
      "metadata": {
        "id": "2OFlN61xnKx1"
      },
      "outputs": [
        {
          "name": "stdout",
          "output_type": "stream",
          "text": [
            "{'d', 'v', 'S', 'j', 'a', 'e', 'l', 'g', 'o', 'z'}\n"
          ]
        }
      ],
      "source": [
        "# - 2 mark\n",
        "#use the remove() method to take ' ' from the set and print it\n",
        "instructor_set.remove(\" \")\n",
        "print(instructor_set)"
      ]
    },
    {
      "cell_type": "code",
      "execution_count": 8,
      "metadata": {
        "id": "g_pr_pPpnKx1"
      },
      "outputs": [
        {
          "name": "stdout",
          "output_type": "stream",
          "text": [
            "{'d', 'v', 'S', 'j', 'a', 'y', 'e', 'l', 'g', 'o', 'z', 'x'}\n"
          ]
        }
      ],
      "source": [
        "# - 2 mark\n",
        "#use the update() function to add 'x', 'y' and 'z' to the set  and print the result\n",
        "instructor_set.update(\"x\", \"y\", \"z\")\n",
        "print(instructor_set)"
      ]
    },
    {
      "cell_type": "code",
      "execution_count": 9,
      "metadata": {
        "id": "OT528-LGnKx2"
      },
      "outputs": [
        {
          "name": "stdout",
          "output_type": "stream",
          "text": [
            "12\n"
          ]
        }
      ],
      "source": [
        "# - 2 mark\n",
        "#use the len() function to get the number of elements in the set and print the result\n",
        "length = len(instructor_set)\n",
        "print(length)"
      ]
    },
    {
      "cell_type": "markdown",
      "metadata": {
        "id": "mZhibx1rnKx2"
      },
      "source": [
        "<h3> Working with tuples </h3>"
      ]
    },
    {
      "cell_type": "code",
      "execution_count": 10,
      "metadata": {
        "id": "EpQDgpIunKx3"
      },
      "outputs": [
        {
          "name": "stdout",
          "output_type": "stream",
          "text": [
            "justin pierre james trudeau\n"
          ]
        }
      ],
      "source": [
        "# - 2 mark\n",
        "#create a tuple from the variable pm and print it\n",
        "pm_tuple = (pm)\n",
        "print(pm_tuple)"
      ]
    },
    {
      "cell_type": "code",
      "execution_count": 13,
      "metadata": {
        "id": "RScD8Ef-nKx3"
      },
      "outputs": [
        {
          "name": "stdout",
          "output_type": "stream",
          "text": [
            "4\n",
            "15\n",
            "27\n"
          ]
        }
      ],
      "source": [
        "# - 6 marks\n",
        "# write the statement to produced the following lines of output\n",
        "\n",
        "## There are 4 e's in the tuple                   #use the count() method\n",
        "count_e = pm_tuple.count(\"e\")\n",
        "print(count_e)\n",
        "\n",
        "## You can find a at index 15 of the tuple        #use the index() method\n",
        "index_a = pm_tuple.index(\"a\")\n",
        "print(index_a)\n",
        "\n",
        "## There are 27 elements in the tuple             #use the len() function\n",
        "length = len(pm_tuple)\n",
        "print(length)"
      ]
    },
    {
      "cell_type": "code",
      "execution_count": 15,
      "metadata": {
        "id": "JMOwu-7GnKx3"
      },
      "outputs": [
        {
          "name": "stdout",
          "output_type": "stream",
          "text": [
            "t\n",
            "n\n"
          ]
        }
      ],
      "source": [
        "# - 2 mark\n",
        "# use array-like indexing to print the third and fifth element of your tuple\n",
        "print(pm_tuple[3])\n",
        "print(pm_tuple[5])"
      ]
    },
    {
      "cell_type": "markdown",
      "metadata": {
        "id": "SfcOXC0tnKx4"
      },
      "source": [
        "<h3> Working with list </h3>"
      ]
    },
    {
      "cell_type": "code",
      "execution_count": 21,
      "metadata": {
        "id": "iP0V9ViznKx4"
      },
      "outputs": [
        {
          "name": "stdout",
          "output_type": "stream",
          "text": [
            "[\"You've\", 'gotta', 'ask', 'yourself', 'a', 'question:', 'how', 'are', 'you', 'today?']\n"
          ]
        }
      ],
      "source": [
        "# - 2 mark\n",
        "# create a list from the variable 'harry' using the split() method\n",
        "# of the string class and print it\n",
        "harry_list = harry.split()\n",
        "print(harry_list)"
      ]
    },
    {
      "cell_type": "code",
      "execution_count": 22,
      "metadata": {
        "id": "ygPOKhavnKx4"
      },
      "outputs": [
        {
          "name": "stdout",
          "output_type": "stream",
          "text": [
            "['Clint', \"You've\", 'gotta', 'ask', 'yourself', 'a', 'how', 'are', 'you', 'today?', 'Eastwood']\n"
          ]
        }
      ],
      "source": [
        "# - 4 marks\n",
        "# use the append() method once to add 'Eastwood' to the end of the  list\n",
        "harry_list.append(\"Eastwood\")\n",
        "# use the insert() method to add 'Clint' at the start of the  list\n",
        "harry_list.insert(0, \"Clint\")\n",
        "# use the remove() method to remove 'question' from the list\n",
        "harry_list.remove(\"question:\")\n",
        "# print the final list\n",
        "print(harry_list)"
      ]
    },
    {
      "cell_type": "code",
      "execution_count": 24,
      "metadata": {
        "id": "Y2lIGel_nKx4"
      },
      "outputs": [
        {
          "name": "stdout",
          "output_type": "stream",
          "text": [
            "['Clint', 'Eastwood', \"You've\", 'a', 'are', 'ask', 'gotta', 'how', 'today?', 'you', 'yourself']\n",
            "['yourself', 'you', 'today?', 'how', 'gotta', 'ask', 'are', 'a', \"You've\", 'Eastwood', 'Clint']\n"
          ]
        }
      ],
      "source": [
        "# - 4 marks\n",
        "# use the sort() method to order the  list\n",
        "harry_list.sort()\n",
        "# print the list\n",
        "print(harry_list)\n",
        "# use the reverse() method to reverse the list\n",
        "harry_list.reverse()\n",
        "# print the final list\n",
        "print(harry_list)"
      ]
    },
    {
      "cell_type": "markdown",
      "metadata": {
        "id": "-fckR6BQnKx5"
      },
      "source": [
        "<h3> Working with dictionary </h3>"
      ]
    },
    {
      "cell_type": "code",
      "execution_count": 25,
      "metadata": {
        "id": "6S-ckDpTnKx5"
      },
      "outputs": [],
      "source": [
        "#use the following dictionary for your exercises\n",
        "d = {\n",
        "    3462: 'Artificial Intelligence',\n",
        "    3468: 'Software Engineering Technician',\n",
        "    3469: 'Software Engineering Technology',\n",
        "    3472: 'Artificial Intelligence (FT)',\n",
        "    3478: 'Software Engineering Technician (FT)',\n",
        "    3528: 'Health Informatics Technology (FT)',\n",
        "    3609: 'Game - Programming',\n",
        "    3668: 'Health Informatics Technology',\n",
        "    3679: 'Game - Programming (FT)'}\n"
      ]
    },
    {
      "cell_type": "code",
      "execution_count": 26,
      "metadata": {
        "id": "0kb4o8P-nKx5"
      },
      "outputs": [
        {
          "name": "stdout",
          "output_type": "stream",
          "text": [
            "{3462: 'Artificial Intelligence', 3468: 'Software Engineering Technician', 3469: 'Software Engineering Technology', 3472: 'Artificial Intelligence (FT)', 3478: 'Software Engineering Technician (FT)', 3528: 'Health Informatics Technology (FT)', 3609: 'Game - Programming', 3668: 'Health Informatics Technology', 3679: 'Game - Programming (FT)'}\n"
          ]
        }
      ],
      "source": [
        "# - 2 mark\n",
        "# display the dictionary\n",
        "print(d)"
      ]
    },
    {
      "cell_type": "code",
      "execution_count": 27,
      "metadata": {
        "id": "Y_dRh6jJnKx5"
      },
      "outputs": [
        {
          "name": "stdout",
          "output_type": "stream",
          "text": [
            "dict_keys([3462, 3468, 3469, 3472, 3478, 3528, 3609, 3668, 3679])\n",
            "dict_values(['Artificial Intelligence', 'Software Engineering Technician', 'Software Engineering Technology', 'Artificial Intelligence (FT)', 'Software Engineering Technician (FT)', 'Health Informatics Technology (FT)', 'Game - Programming', 'Health Informatics Technology', 'Game - Programming (FT)'])\n"
          ]
        }
      ],
      "source": [
        "# - 4 mark\n",
        "# use the keys() and values() method to display the keys and values\n",
        "print(d.keys())\n",
        "print(d.values())"
      ]
    },
    {
      "cell_type": "code",
      "execution_count": 32,
      "metadata": {
        "id": "Q6CElrrNnKx6"
      },
      "outputs": [
        {
          "name": "stdout",
          "output_type": "stream",
          "text": [
            "Artificial Intelligence\n",
            "Artificial Intelligence\n"
          ]
        }
      ],
      "source": [
        "# - 4 mark\n",
        "# Use the key-index technique to retrieve the name of program 3462\n",
        "print(d[3462])\n",
        "# Use the get() method to retrieve the name of program 3462\n",
        "print(d.get(3462))\n",
        "# It there a difference?\n",
        "# In this case no but if the key doesn't exist, the key-index technique returns an error, while the get() method returns None value"
      ]
    },
    {
      "cell_type": "markdown",
      "metadata": {
        "id": "QMtZVr4pnKx6"
      },
      "source": [
        "<h3> Using the enumerate function </h3>\n",
        "\n",
        "This function can enumerate both sequences like sets, tuples, strings and lists as well as mappings like dictionaries  \n",
        "The enumerate function returns a collection of tuples.  \n",
        "Each tuples is a pair comprising of the index and the value."
      ]
    },
    {
      "cell_type": "code",
      "execution_count": 37,
      "metadata": {
        "id": "5ZoKGvsunKx6"
      },
      "outputs": [
        {
          "name": "stdout",
          "output_type": "stream",
          "text": [
            "0 d\n",
            "1 v\n",
            "2 S\n",
            "3 j\n",
            "4 a\n",
            "5 y\n",
            "6 e\n",
            "7 l\n",
            "8 g\n",
            "9 o\n",
            "10 z\n",
            "11 x\n",
            "0 j\n",
            "1 u\n",
            "2 s\n",
            "3 t\n",
            "4 i\n",
            "5 n\n",
            "6  \n",
            "7 p\n",
            "8 i\n",
            "9 e\n",
            "10 r\n",
            "11 r\n",
            "12 e\n",
            "13  \n",
            "14 j\n",
            "15 a\n",
            "16 m\n",
            "17 e\n",
            "18 s\n",
            "19  \n",
            "20 t\n",
            "21 r\n",
            "22 u\n",
            "23 d\n",
            "24 e\n",
            "25 a\n",
            "26 u\n",
            "0 yourself\n",
            "1 you\n",
            "2 today?\n",
            "3 how\n",
            "4 gotta\n",
            "5 ask\n",
            "6 are\n",
            "7 a\n",
            "8 You've\n",
            "9 Eastwood\n",
            "10 Clint\n",
            "0 3462\n",
            "1 3468\n",
            "2 3469\n",
            "3 3472\n",
            "4 3478\n",
            "5 3528\n",
            "6 3609\n",
            "7 3668\n",
            "8 3679\n"
          ]
        }
      ],
      "source": [
        "# - 5 mark\n",
        "# use the enumerate function to print each collection: set, tuple, list and dict\n",
        "# You must print both the position and the item in the collection\n",
        "\n",
        "# set\n",
        "for pos, item in enumerate(instructor_set):\n",
        "    print(pos, item)\n",
        "\n",
        "# tuple\n",
        "for pos, item in enumerate(pm_tuple):\n",
        "    print(pos, item)\n",
        "\n",
        "# list\n",
        "for pos, item in enumerate(harry_list):\n",
        "    print(pos, item)\n",
        "\n",
        "# dict\n",
        "for pos, item in enumerate(d):\n",
        "    print(pos, item)"
      ]
    },
    {
      "cell_type": "code",
      "execution_count": 41,
      "metadata": {
        "id": "s-GodgNAnKx6"
      },
      "outputs": [
        {
          "name": "stdout",
          "output_type": "stream",
          "text": [
            "0 3462 Artificial Intelligence\n",
            "1 3468 Software Engineering Technician\n",
            "2 3469 Software Engineering Technology\n",
            "3 3472 Artificial Intelligence (FT)\n",
            "4 3478 Software Engineering Technician (FT)\n",
            "5 3528 Health Informatics Technology (FT)\n",
            "6 3609 Game - Programming\n",
            "7 3668 Health Informatics Technology\n",
            "8 3679 Game - Programming (FT)\n"
          ]
        }
      ],
      "source": [
        "# - 5 mark\n",
        "# Use the items() method of the dict class to enumerate a dictionary\n",
        "# You must print the position, the key and the value\n",
        "for pos, item in enumerate(d.items()):\n",
        "    key, value = item\n",
        "    print(pos, key, value)"
      ]
    },
    {
      "cell_type": "code",
      "execution_count": null,
      "metadata": {},
      "outputs": [],
      "source": []
    }
  ],
  "metadata": {
    "colab": {
      "provenance": []
    },
    "interpreter": {
      "hash": "1448b48b023bcc9c3d4a79e814720a10ca6d4244f75e0f7ce4af58f96ba2b7d3"
    },
    "kernelspec": {
      "display_name": "Python 3.9.7 64-bit ('base': conda)",
      "language": "python",
      "name": "python3"
    },
    "language_info": {
      "codemirror_mode": {
        "name": "ipython",
        "version": 3
      },
      "file_extension": ".py",
      "mimetype": "text/x-python",
      "name": "python",
      "nbconvert_exporter": "python",
      "pygments_lexer": "ipython3",
      "version": "3.9.18"
    },
    "orig_nbformat": 4
  },
  "nbformat": 4,
  "nbformat_minor": 0
}
