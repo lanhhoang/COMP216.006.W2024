{
 "cells": [
  {
   "cell_type": "code",
   "execution_count": 25,
   "metadata": {},
   "outputs": [
    {
     "name": "stdout",
     "output_type": "stream",
     "text": [
      "Hello from server\n"
     ]
    }
   ],
   "source": [
    "import socket\n",
    "\n",
    "host = \"localhost\"\n",
    "port = 12345\n",
    "address = (host, port)\n",
    "\n",
    "client = socket.socket(socket.AF_INET, socket.SOCK_STREAM)\n",
    "client.connect(address)\n",
    "\n",
    "msg = \"hello\"\n",
    "client.send(msg.encode())\n",
    "ack = client.recv(1024).decode()\n",
    "print(ack)\n",
    "client.close()"
   ]
  }
 ],
 "metadata": {
  "kernelspec": {
   "display_name": "base",
   "language": "python",
   "name": "python3"
  },
  "language_info": {
   "codemirror_mode": {
    "name": "ipython",
    "version": 3
   },
   "file_extension": ".py",
   "mimetype": "text/x-python",
   "name": "python",
   "nbconvert_exporter": "python",
   "pygments_lexer": "ipython3",
   "version": "3.9.18"
  }
 },
 "nbformat": 4,
 "nbformat_minor": 2
}
