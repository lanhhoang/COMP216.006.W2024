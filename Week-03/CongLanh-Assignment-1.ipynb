{
 "cells": [
  {
   "cell_type": "code",
   "execution_count": 3,
   "metadata": {},
   "outputs": [],
   "source": [
    "# Name: Cong Lanh Hoang\n",
    "# Date: Jan 31, 2024\n",
    "\n",
    "class Pizza():\n",
    "  __sizes = [\"small\", \"medium\", \"large\", \"x-large\"]\n",
    "  __prices = {\"small\": 6.49, \"medium\": 8.49, \"large\": 10.49, \"x-large\": 13.49}\n",
    "  __topping_price = 0.50\n",
    "\n",
    "  def __init__(self, size = \"medium\", toppings = [\"cheese\"]):\n",
    "    self.__size = self.verify_size(size)\n",
    "    self.__toppings = toppings\n",
    "\n",
    "  def verify_size(self, size):\n",
    "    if size not in Pizza.__sizes:\n",
    "      raise ValueError(f\"ERROR: {size} is not a valid size for a pizza\")\n",
    "  \n",
    "    return size\n",
    "\n",
    "  def add(self, toppings):\n",
    "    self.__toppings += toppings\n",
    "\n",
    "  def __str__(self):\n",
    "    return f\"{self.__size} pizza with {self.__toppings} for ${self.price:.2f}\"\n",
    "\n",
    "  @property\n",
    "  def price(self):\n",
    "    return Pizza.__prices[self.__size] + len(self.__toppings) * Pizza.__topping_price\n",
    "\n",
    "  @property\n",
    "  def size(self):\n",
    "    return self.__size\n",
    "\n",
    "  @size.setter\n",
    "  def size(self, size):\n",
    "    self.__size = self.verify_size(size)"
   ]
  },
  {
   "cell_type": "code",
   "execution_count": 4,
   "metadata": {},
   "outputs": [
    {
     "name": "stdout",
     "output_type": "stream",
     "text": [
      "Creating a default pizza\n",
      "medium pizza with ['cheese'] for $8.99\n",
      "\n",
      "Adding topping: ['cheese', 'olive']\n",
      "medium pizza with ['cheese', 'cheese', 'olive'] for $9.99\n",
      "\n",
      "Creating a new pizza\n",
      "large pizza with ['cheese', 'pepper'] for $11.49\n",
      "\n",
      "Adding topping: ['pineapple', 'mushroom']\n",
      "large pizza with ['cheese', 'pepper', 'pineapple', 'mushroom'] for $12.49\n",
      "\n",
      "Changing order size to x-large\n",
      "x-large pizza with ['cheese', 'pepper', 'pineapple', 'mushroom'] for $15.49\n",
      "\n",
      "Changing order size to gigantic\n",
      "ERROR: gigantic is not a valid size for a pizza\n"
     ]
    }
   ],
   "source": [
    "print(f'Creating a default pizza')\n",
    "p = Pizza()\n",
    "print(p)\n",
    "\n",
    "toppings = 'cheese olive'.split()\n",
    "print(f'\\nAdding topping: {toppings}')\n",
    "p.add(toppings=toppings)\n",
    "print(p)\n",
    "\n",
    "print(f'\\nCreating a new pizza')\n",
    "p = Pizza('large', 'cheese pepper'.split())\n",
    "print(p)\n",
    "\n",
    "toppings = ['pineapple', 'mushroom']\n",
    "print(f'\\nAdding topping: {toppings}')\n",
    "p.add(toppings)\n",
    "print(p)\n",
    "\n",
    "size = 'x-large'\n",
    "p.size = size\n",
    "print(f'\\nChanging order size to {size}')\n",
    "print(p)\n",
    "\n",
    "size = 'gigantic'\n",
    "print(f'\\nChanging order size to {size}')\n",
    "try:\n",
    "  p.size = size\n",
    "except ValueError as err:\n",
    "  print(err) "
   ]
  }
 ],
 "metadata": {
  "kernelspec": {
   "display_name": "base",
   "language": "python",
   "name": "python3"
  },
  "language_info": {
   "codemirror_mode": {
    "name": "ipython",
    "version": 3
   },
   "file_extension": ".py",
   "mimetype": "text/x-python",
   "name": "python",
   "nbconvert_exporter": "python",
   "pygments_lexer": "ipython3",
   "version": "3.9.18"
  }
 },
 "nbformat": 4,
 "nbformat_minor": 2
}
