{
 "cells": [
  {
   "cell_type": "code",
   "execution_count": 12,
   "metadata": {},
   "outputs": [],
   "source": [
    "# Lab 4 – Using threads\n",
    "\n",
    "from time import perf_counter, sleep\n",
    "from threading import Thread"
   ]
  },
  {
   "cell_type": "code",
   "execution_count": 13,
   "metadata": {},
   "outputs": [],
   "source": [
    "# 1.\tCreate a function to the following:\n",
    "#   a.\tTake a string argument (name).\n",
    "#   b.\tCreate a loop that will run for 100 000 time. In this loop, the program will sleep 0.0001 seconds.\n",
    "#   c.\tAfter the completion of the loop, prints its name and a brief message.\n",
    "\n",
    "def print_name(name):\n",
    "  print(f\"{name} is going to sleep for 10 seconds\")\n",
    "\n",
    "  for _ in range(100_000):\n",
    "    sleep(0.0001)\n",
    "\n",
    "  print(f\"{name} is done sleeping\")"
   ]
  },
  {
   "cell_type": "code",
   "execution_count": 14,
   "metadata": {},
   "outputs": [],
   "source": [
    "# 2.\tCreate a second function to do the following:\n",
    "#   a.\tTakes a number argument (times to execute the loop).\n",
    "#   b.\tStore the current time.\n",
    "#   c.\tCall the function in step 1 the required number of times (sequentially).\n",
    "#   d.\tCheck the elapse time after the above calls complete.\n",
    "#   e.\tPrint the results as well as a brief message.\n",
    "\n",
    "def call_function_sequentially(times):\n",
    "  start = perf_counter()\n",
    "\n",
    "  for _ in range(times):\n",
    "    print_name(\"call_function_sequentially\")\n",
    "  \n",
    "  end = perf_counter()\n",
    "  print(f\"Time taken for {times} times is {round(end - start, 2)} seconds\")"
   ]
  },
  {
   "cell_type": "code",
   "execution_count": 15,
   "metadata": {},
   "outputs": [],
   "source": [
    "# 3.\tCreate a third function to do the following:\n",
    "#   a.\tTakes a number argument (times to execute the loop).\n",
    "#   b.\tStore the current time.\n",
    "#   c.\tCall the function in step 1 the required number of times (as threads).\n",
    "#   d.\tCheck the elapse time after the above calls complete\n",
    "#   e.\tPrint the results as well as a brief message\n",
    "\n",
    "def call_function_as_threads(times):\n",
    "  start = perf_counter()\n",
    "  threads = []\n",
    "\n",
    "  for _ in range(times):\n",
    "    thread = Thread(\n",
    "      target=print_name,\n",
    "      args=(\"call_function_as_threads\",)\n",
    "    )\n",
    "    thread.start()\n",
    "    threads.append(thread)\n",
    "  \n",
    "  for thread in threads:\n",
    "    thread.join()\n",
    "\n",
    "  end = perf_counter()\n",
    "  print(f\"Time taken for {times} times is {round(end - start, 2)} seconds\")"
   ]
  },
  {
   "cell_type": "code",
   "execution_count": 16,
   "metadata": {},
   "outputs": [
    {
     "name": "stdout",
     "output_type": "stream",
     "text": [
      " call_function_sequentially is going to sleep for 10 seconds \n",
      "call_function_sequentially is done sleeping\n",
      " call_function_sequentially is going to sleep for 10 seconds \n",
      "call_function_sequentially is done sleeping\n",
      " call_function_sequentially is going to sleep for 10 seconds \n",
      "call_function_sequentially is done sleeping\n",
      " call_function_sequentially is going to sleep for 10 seconds \n",
      "call_function_sequentially is done sleeping\n",
      " call_function_sequentially is going to sleep for 10 seconds \n",
      "call_function_sequentially is done sleeping\n",
      " call_function_sequentially is going to sleep for 10 seconds \n",
      "call_function_sequentially is done sleeping\n",
      " call_function_sequentially is going to sleep for 10 seconds \n",
      "call_function_sequentially is done sleeping\n",
      " call_function_sequentially is going to sleep for 10 seconds \n",
      "call_function_sequentially is done sleeping\n",
      " call_function_sequentially is going to sleep for 10 seconds \n",
      "call_function_sequentially is done sleeping\n",
      " call_function_sequentially is going to sleep for 10 seconds \n",
      "call_function_sequentially is done sleeping\n",
      "Time taken for 10 times is 131.26 seconds\n"
     ]
    }
   ],
   "source": [
    "# 4.\tWrite the statements\n",
    "#   a.\tto call the function in step 2 ten times\n",
    "\n",
    "call_function_sequentially(10)"
   ]
  },
  {
   "cell_type": "code",
   "execution_count": 18,
   "metadata": {},
   "outputs": [
    {
     "name": "stdout",
     "output_type": "stream",
     "text": [
      " call_function_as_threads is going to sleep for 10 seconds \n",
      " call_function_as_threads is going to sleep for 10 seconds \n",
      " call_function_as_threads is going to sleep for 10 seconds \n",
      " call_function_as_threads is going to sleep for 10 seconds \n",
      " call_function_as_threads is going to sleep for 10 seconds \n",
      " call_function_as_threads is going to sleep for 10 seconds \n",
      " call_function_as_threads is going to sleep for 10 seconds \n",
      " call_function_as_threads is going to sleep for 10 seconds \n",
      " call_function_as_threads is going to sleep for 10 seconds \n",
      " call_function_as_threads is going to sleep for 10 seconds \n",
      "call_function_as_threads is done sleeping\n",
      "call_function_as_threads is done sleeping\n",
      "call_function_as_threads is done sleeping\n",
      "call_function_as_threads is done sleeping\n",
      "call_function_as_threads is done sleeping\n",
      "call_function_as_threads is done sleeping\n",
      "call_function_as_threads is done sleeping\n",
      "call_function_as_threads is done sleeping\n",
      "call_function_as_threads is done sleeping\n",
      "call_function_as_threads is done sleeping\n",
      "Time taken for 10 times is 13.37 seconds\n"
     ]
    }
   ],
   "source": [
    "# 4.\tWrite the statements\n",
    "#   b.\tto call the function in step 3 ten times\n",
    "\n",
    "call_function_as_threads(10)"
   ]
  }
 ],
 "metadata": {
  "kernelspec": {
   "display_name": "base",
   "language": "python",
   "name": "python3"
  },
  "language_info": {
   "codemirror_mode": {
    "name": "ipython",
    "version": 3
   },
   "file_extension": ".py",
   "mimetype": "text/x-python",
   "name": "python",
   "nbconvert_exporter": "python",
   "pygments_lexer": "ipython3",
   "version": "3.9.18"
  }
 },
 "nbformat": 4,
 "nbformat_minor": 2
}
