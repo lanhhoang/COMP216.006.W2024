{
 "cells": [
  {
   "cell_type": "code",
   "execution_count": 1,
   "metadata": {},
   "outputs": [
    {
     "name": "stdout",
     "output_type": "stream",
     "text": [
      "hello \n"
     ]
    }
   ],
   "source": [
    "print(\"hello \")"
   ]
  },
  {
   "cell_type": "code",
   "execution_count": 10,
   "metadata": {},
   "outputs": [],
   "source": [
    "class Student:\n",
    "    @staticmethod\n",
    "    def hello(arg1):\n",
    "        print(\"hello world\")"
   ]
  },
  {
   "cell_type": "code",
   "execution_count": 11,
   "metadata": {},
   "outputs": [
    {
     "ename": "TypeError",
     "evalue": "Student.hello() missing 1 required positional argument: 'arg1'",
     "output_type": "error",
     "traceback": [
      "\u001b[1;31m---------------------------------------------------------------------------\u001b[0m",
      "\u001b[1;31mTypeError\u001b[0m                                 Traceback (most recent call last)",
      "Cell \u001b[1;32mIn[11], line 2\u001b[0m\n\u001b[0;32m      1\u001b[0m s1 \u001b[39m=\u001b[39m Student()\n\u001b[1;32m----> 2\u001b[0m s1\u001b[39m.\u001b[39;49mhello()\n",
      "\u001b[1;31mTypeError\u001b[0m: Student.hello() missing 1 required positional argument: 'arg1'"
     ]
    }
   ],
   "source": [
    "s1 = Student()\n",
    "s1.hello()"
   ]
  },
  {
   "cell_type": "code",
   "execution_count": 12,
   "metadata": {},
   "outputs": [],
   "source": [
    "class Vehicle:\n",
    "    def hello(self):\n",
    "        print(\"I am a vehicle\")"
   ]
  },
  {
   "cell_type": "code",
   "execution_count": 15,
   "metadata": {},
   "outputs": [],
   "source": [
    "class Car(Vehicle):\n",
    "    def hello(self):\n",
    "        Vehicle.hello(self)\n",
    "        print(\"i am a car\")"
   ]
  },
  {
   "cell_type": "code",
   "execution_count": 16,
   "metadata": {},
   "outputs": [
    {
     "name": "stdout",
     "output_type": "stream",
     "text": [
      "I am a vehicle\n",
      "i am a car\n"
     ]
    }
   ],
   "source": [
    "c = Car()\n",
    "c.hello()"
   ]
  },
  {
   "cell_type": "code",
   "execution_count": 24,
   "metadata": {},
   "outputs": [],
   "source": [
    "def h():\n",
    "    print(\"simple hello\")"
   ]
  },
  {
   "cell_type": "code",
   "execution_count": 25,
   "metadata": {},
   "outputs": [],
   "source": [
    "def h(msg):\n",
    "    print(msg)"
   ]
  },
  {
   "cell_type": "code",
   "execution_count": 26,
   "metadata": {},
   "outputs": [
    {
     "name": "stdout",
     "output_type": "stream",
     "text": [
      "test\n"
     ]
    }
   ],
   "source": [
    "h('test')"
   ]
  },
  {
   "cell_type": "code",
   "execution_count": 28,
   "metadata": {},
   "outputs": [],
   "source": [
    "def h(msg,m2):\n",
    "    print(msg)"
   ]
  },
  {
   "cell_type": "code",
   "execution_count": 29,
   "metadata": {},
   "outputs": [
    {
     "ename": "TypeError",
     "evalue": "h() missing 1 required positional argument: 'm2'",
     "output_type": "error",
     "traceback": [
      "\u001b[1;31m---------------------------------------------------------------------------\u001b[0m",
      "\u001b[1;31mTypeError\u001b[0m                                 Traceback (most recent call last)",
      "Cell \u001b[1;32mIn[29], line 1\u001b[0m\n\u001b[1;32m----> 1\u001b[0m h(\u001b[39m'\u001b[39;49m\u001b[39mtest\u001b[39;49m\u001b[39m'\u001b[39;49m)\n",
      "\u001b[1;31mTypeError\u001b[0m: h() missing 1 required positional argument: 'm2'"
     ]
    }
   ],
   "source": [
    "h('test')"
   ]
  },
  {
   "cell_type": "code",
   "execution_count": 27,
   "metadata": {},
   "outputs": [
    {
     "ename": "TypeError",
     "evalue": "h() missing 1 required positional argument: 'msg'",
     "output_type": "error",
     "traceback": [
      "\u001b[1;31m---------------------------------------------------------------------------\u001b[0m",
      "\u001b[1;31mTypeError\u001b[0m                                 Traceback (most recent call last)",
      "Cell \u001b[1;32mIn[27], line 1\u001b[0m\n\u001b[1;32m----> 1\u001b[0m h()\n",
      "\u001b[1;31mTypeError\u001b[0m: h() missing 1 required positional argument: 'msg'"
     ]
    }
   ],
   "source": [
    "h()"
   ]
  },
  {
   "cell_type": "code",
   "execution_count": 32,
   "metadata": {},
   "outputs": [],
   "source": [
    "name = \"centennial college\"\n",
    "result = [c for c in name if c!='n']"
   ]
  },
  {
   "cell_type": "code",
   "execution_count": 33,
   "metadata": {},
   "outputs": [
    {
     "data": {
      "text/plain": [
       "list"
      ]
     },
     "execution_count": 33,
     "metadata": {},
     "output_type": "execute_result"
    }
   ],
   "source": [
    "type(result)"
   ]
  },
  {
   "cell_type": "code",
   "execution_count": 37,
   "metadata": {},
   "outputs": [
    {
     "data": {
      "text/plain": [
       "{'c': 99,\n",
       " 'e': 101,\n",
       " 'n': 110,\n",
       " 't': 116,\n",
       " 'i': 105,\n",
       " 'a': 97,\n",
       " 'l': 108,\n",
       " ' ': 32,\n",
       " 'o': 111,\n",
       " 'g': 103}"
      ]
     },
     "execution_count": 37,
     "metadata": {},
     "output_type": "execute_result"
    }
   ],
   "source": [
    "{c:ord(c) for c in name}"
   ]
  },
  {
   "cell_type": "code",
   "execution_count": 38,
   "metadata": {},
   "outputs": [
    {
     "data": {
      "text/plain": [
       "3"
      ]
     },
     "execution_count": 38,
     "metadata": {},
     "output_type": "execute_result"
    }
   ],
   "source": [
    "matrix = [[1,2,3],\n",
    "          [4,5,6],\n",
    "          [7,8,9]]\n",
    "len(matrix)\n",
    "# v = [1,2,3,4,5,...9]"
   ]
  },
  {
   "cell_type": "code",
   "execution_count": 44,
   "metadata": {},
   "outputs": [],
   "source": [
    "matrix = [[\"this\",\"is\",\"a\"],\n",
    "          [\"great\",\"test\",\"and\"],\n",
    "          [\"it\",\"should\",\"work\"]]"
   ]
  },
  {
   "cell_type": "code",
   "execution_count": 48,
   "metadata": {},
   "outputs": [
    {
     "data": {
      "text/plain": [
       "['t',\n",
       " 'h',\n",
       " 'i',\n",
       " 's',\n",
       " 'i',\n",
       " 's',\n",
       " 'a',\n",
       " 'g',\n",
       " 'r',\n",
       " 'e',\n",
       " 'a',\n",
       " 't',\n",
       " 't',\n",
       " 'e',\n",
       " 's',\n",
       " 't',\n",
       " 'a',\n",
       " 'n',\n",
       " 'd',\n",
       " 'i',\n",
       " 't',\n",
       " 's',\n",
       " 'h',\n",
       " 'o',\n",
       " 'u',\n",
       " 'l',\n",
       " 'd',\n",
       " 'w',\n",
       " 'o',\n",
       " 'r',\n",
       " 'k']"
      ]
     },
     "execution_count": 48,
     "metadata": {},
     "output_type": "execute_result"
    }
   ],
   "source": [
    "[c for vec in matrix for e in vec for c in e]"
   ]
  },
  {
   "cell_type": "code",
   "execution_count": 45,
   "metadata": {},
   "outputs": [
    {
     "data": {
      "text/plain": [
       "['t',\n",
       " 'h',\n",
       " 'i',\n",
       " 's',\n",
       " 'i',\n",
       " 's',\n",
       " 'a',\n",
       " 'g',\n",
       " 'r',\n",
       " 'e',\n",
       " 'a',\n",
       " 't',\n",
       " 't',\n",
       " 'e',\n",
       " 's',\n",
       " 't',\n",
       " 'a',\n",
       " 'n',\n",
       " 'd',\n",
       " 'i',\n",
       " 't',\n",
       " 's',\n",
       " 'h',\n",
       " 'o',\n",
       " 'u',\n",
       " 'l',\n",
       " 'd',\n",
       " 'w',\n",
       " 'o',\n",
       " 'r',\n",
       " 'k']"
      ]
     },
     "execution_count": 45,
     "metadata": {},
     "output_type": "execute_result"
    }
   ],
   "source": [
    "[i for vec in matrix for e in vec for i in e]\n",
    "# result = ['t','h','i' .......'d']"
   ]
  },
  {
   "cell_type": "code",
   "execution_count": 53,
   "metadata": {},
   "outputs": [],
   "source": [
    "x = [1,2,3,4,5]\n",
    "y = [-1,-2,-3,-4,-5]\n",
    "z = ['a', 'b','c','d','e']\n",
    "# (1,-1), (1,-2), (1,-3), ...... (5,-3), (5.,-4), (5,-5)"
   ]
  },
  {
   "cell_type": "code",
   "execution_count": 55,
   "metadata": {},
   "outputs": [
    {
     "data": {
      "text/plain": [
       "[(1, -1, 'a'),\n",
       " (1, -1, 'b'),\n",
       " (1, -1, 'c'),\n",
       " (1, -1, 'd'),\n",
       " (1, -1, 'e'),\n",
       " (1, -2, 'a'),\n",
       " (1, -2, 'b'),\n",
       " (1, -2, 'c'),\n",
       " (1, -2, 'd'),\n",
       " (1, -2, 'e'),\n",
       " (1, -3, 'a'),\n",
       " (1, -3, 'b'),\n",
       " (1, -3, 'c'),\n",
       " (1, -3, 'd'),\n",
       " (1, -3, 'e'),\n",
       " (1, -4, 'a'),\n",
       " (1, -4, 'b'),\n",
       " (1, -4, 'c'),\n",
       " (1, -4, 'd'),\n",
       " (1, -4, 'e'),\n",
       " (1, -5, 'a'),\n",
       " (1, -5, 'b'),\n",
       " (1, -5, 'c'),\n",
       " (1, -5, 'd'),\n",
       " (1, -5, 'e'),\n",
       " (2, -1, 'a'),\n",
       " (2, -1, 'b'),\n",
       " (2, -1, 'c'),\n",
       " (2, -1, 'd'),\n",
       " (2, -1, 'e'),\n",
       " (2, -2, 'a'),\n",
       " (2, -2, 'b'),\n",
       " (2, -2, 'c'),\n",
       " (2, -2, 'd'),\n",
       " (2, -2, 'e'),\n",
       " (2, -3, 'a'),\n",
       " (2, -3, 'b'),\n",
       " (2, -3, 'c'),\n",
       " (2, -3, 'd'),\n",
       " (2, -3, 'e'),\n",
       " (2, -4, 'a'),\n",
       " (2, -4, 'b'),\n",
       " (2, -4, 'c'),\n",
       " (2, -4, 'd'),\n",
       " (2, -4, 'e'),\n",
       " (2, -5, 'a'),\n",
       " (2, -5, 'b'),\n",
       " (2, -5, 'c'),\n",
       " (2, -5, 'd'),\n",
       " (2, -5, 'e'),\n",
       " (3, -1, 'a'),\n",
       " (3, -1, 'b'),\n",
       " (3, -1, 'c'),\n",
       " (3, -1, 'd'),\n",
       " (3, -1, 'e'),\n",
       " (3, -2, 'a'),\n",
       " (3, -2, 'b'),\n",
       " (3, -2, 'c'),\n",
       " (3, -2, 'd'),\n",
       " (3, -2, 'e'),\n",
       " (3, -3, 'a'),\n",
       " (3, -3, 'b'),\n",
       " (3, -3, 'c'),\n",
       " (3, -3, 'd'),\n",
       " (3, -3, 'e'),\n",
       " (3, -4, 'a'),\n",
       " (3, -4, 'b'),\n",
       " (3, -4, 'c'),\n",
       " (3, -4, 'd'),\n",
       " (3, -4, 'e'),\n",
       " (3, -5, 'a'),\n",
       " (3, -5, 'b'),\n",
       " (3, -5, 'c'),\n",
       " (3, -5, 'd'),\n",
       " (3, -5, 'e'),\n",
       " (4, -1, 'a'),\n",
       " (4, -1, 'b'),\n",
       " (4, -1, 'c'),\n",
       " (4, -1, 'd'),\n",
       " (4, -1, 'e'),\n",
       " (4, -2, 'a'),\n",
       " (4, -2, 'b'),\n",
       " (4, -2, 'c'),\n",
       " (4, -2, 'd'),\n",
       " (4, -2, 'e'),\n",
       " (4, -3, 'a'),\n",
       " (4, -3, 'b'),\n",
       " (4, -3, 'c'),\n",
       " (4, -3, 'd'),\n",
       " (4, -3, 'e'),\n",
       " (4, -4, 'a'),\n",
       " (4, -4, 'b'),\n",
       " (4, -4, 'c'),\n",
       " (4, -4, 'd'),\n",
       " (4, -4, 'e'),\n",
       " (4, -5, 'a'),\n",
       " (4, -5, 'b'),\n",
       " (4, -5, 'c'),\n",
       " (4, -5, 'd'),\n",
       " (4, -5, 'e'),\n",
       " (5, -1, 'a'),\n",
       " (5, -1, 'b'),\n",
       " (5, -1, 'c'),\n",
       " (5, -1, 'd'),\n",
       " (5, -1, 'e'),\n",
       " (5, -2, 'a'),\n",
       " (5, -2, 'b'),\n",
       " (5, -2, 'c'),\n",
       " (5, -2, 'd'),\n",
       " (5, -2, 'e'),\n",
       " (5, -3, 'a'),\n",
       " (5, -3, 'b'),\n",
       " (5, -3, 'c'),\n",
       " (5, -3, 'd'),\n",
       " (5, -3, 'e'),\n",
       " (5, -4, 'a'),\n",
       " (5, -4, 'b'),\n",
       " (5, -4, 'c'),\n",
       " (5, -4, 'd'),\n",
       " (5, -4, 'e'),\n",
       " (5, -5, 'a'),\n",
       " (5, -5, 'b'),\n",
       " (5, -5, 'c'),\n",
       " (5, -5, 'd'),\n",
       " (5, -5, 'e')]"
      ]
     },
     "execution_count": 55,
     "metadata": {},
     "output_type": "execute_result"
    }
   ],
   "source": [
    "[(i,j,k) for i in x for j in y for k in z]"
   ]
  },
  {
   "cell_type": "code",
   "execution_count": null,
   "metadata": {},
   "outputs": [],
   "source": [
    "x = [1,2,3,4,5]\n",
    "y = [-1,-2,-3,-4,-5]\n",
    "z = ['a', 'b','c','d','e']\n",
    "(1,-1), (2,-2), (3,-3), (4,-4), (5,-5)"
   ]
  },
  {
   "cell_type": "code",
   "execution_count": 57,
   "metadata": {},
   "outputs": [
    {
     "data": {
      "text/plain": [
       "[(1, 'a'), (2, 'b'), (3, 'c'), (4, 'd'), (5, 'e')]"
      ]
     },
     "execution_count": 57,
     "metadata": {},
     "output_type": "execute_result"
    }
   ],
   "source": [
    "[(i,j) for i,j in zip(x,z)]"
   ]
  },
  {
   "cell_type": "code",
   "execution_count": 58,
   "metadata": {},
   "outputs": [],
   "source": [
    "import threading, time"
   ]
  },
  {
   "cell_type": "code",
   "execution_count": 59,
   "metadata": {},
   "outputs": [],
   "source": [
    "def myfunction(t, name):\n",
    "    print(f\" {name} is going to sleep for {t} seconds \")\n",
    "    time.sleep(t)\n",
    "    print(f\" {name} is awake\")"
   ]
  },
  {
   "cell_type": "code",
   "execution_count": 60,
   "metadata": {},
   "outputs": [
    {
     "name": "stdout",
     "output_type": "stream",
     "text": [
      " func1 is going to sleep for 5 seconds \n",
      " func1 is awake\n"
     ]
    }
   ],
   "source": [
    "myfunction(5,\"func1\")"
   ]
  },
  {
   "cell_type": "code",
   "execution_count": 66,
   "metadata": {},
   "outputs": [
    {
     "name": "stdout",
     "output_type": "stream",
     "text": [
      " func1 is going to sleep for 5 seconds \n",
      " func1 is awake\n",
      " func2 is going to sleep for 3 seconds \n",
      " func2 is awake\n"
     ]
    }
   ],
   "source": [
    "myfunction(5,\"func1\")\n",
    "myfunction(3,\"func2\")"
   ]
  },
  {
   "cell_type": "code",
   "execution_count": 72,
   "metadata": {},
   "outputs": [],
   "source": [
    "t1 = threading.Thread(target=myfunction, name=\"function1\",args =[10, \"func#1\"])\n",
    "t2 = threading.Thread(target=myfunction, name=\"function2\",args =[3, \"func#2\"])"
   ]
  },
  {
   "cell_type": "code",
   "execution_count": 73,
   "metadata": {},
   "outputs": [
    {
     "name": "stdout",
     "output_type": "stream",
     "text": [
      " func#1 is going to sleep for 10 seconds \n",
      " func#2 is going to sleep for 3 seconds \n",
      "this is from main process\n",
      " func#2 is awake\n",
      " func#1 is awake\n",
      "from main process: all done\n"
     ]
    }
   ],
   "source": [
    "t1.start()\n",
    "t2.start()\n",
    "print(\"this is from main process\")\n",
    "t1.join()\n",
    "t2.join()\n",
    "print(\"from main process: all done\")"
   ]
  },
  {
   "cell_type": "code",
   "execution_count": 74,
   "metadata": {},
   "outputs": [],
   "source": [
    "from tkinter import *\n",
    "from tkinter import messagebox"
   ]
  },
  {
   "cell_type": "code",
   "execution_count": 75,
   "metadata": {},
   "outputs": [],
   "source": [
    "top = Tk()"
   ]
  },
  {
   "cell_type": "code",
   "execution_count": 76,
   "metadata": {},
   "outputs": [],
   "source": [
    "top.mainloop()"
   ]
  },
  {
   "cell_type": "code",
   "execution_count": 77,
   "metadata": {},
   "outputs": [],
   "source": [
    "top = Tk()\n",
    "top.geometry(\"400x400\")\n",
    "def helloCallBack():\n",
    "   msg = messagebox.showinfo( \"Hello Python\", \"Hello World\")\n",
    "\n",
    "B = Button(top, text = \"My Button\", command = helloCallBack)\n",
    "B.place(x = 150,y = 150)\n",
    "top.mainloop()"
   ]
  },
  {
   "cell_type": "code",
   "execution_count": 78,
   "metadata": {},
   "outputs": [],
   "source": [
    "# to create a canvas\n",
    "top = Tk()\n",
    "\n",
    "C = Canvas(top, bg = \"green\", height = 250, width = 300)\n",
    "\n",
    "coord = 10, 50, 240, 210\n",
    "arc = C.create_arc(coord, start = 0, extent = 50, fill = \"yellow\")\n",
    "line = C.create_line(10,200,200,200,fill = 'white')\n",
    "C.pack()\n",
    "top.mainloop()"
   ]
  },
  {
   "cell_type": "code",
   "execution_count": 79,
   "metadata": {},
   "outputs": [],
   "source": [
    "# to create a check button\n",
    "top = Tk()\n",
    "CheckVar1 = IntVar()\n",
    "CheckVar2 = IntVar()\n",
    "C1 = Checkbutton(top, text = \"Python\", variable = CheckVar1, \\\n",
    "                 onvalue = 1, offvalue = 0, height=5, \\\n",
    "                 width = 20, )\n",
    "C2 = Checkbutton(top, text = \"Java\", variable = CheckVar2, \\\n",
    "                 onvalue = 1, offvalue = 0, height=5, \\\n",
    "                 width = 20)\n",
    "C1.pack()\n",
    "C2.pack()\n",
    "top.mainloop()"
   ]
  },
  {
   "cell_type": "code",
   "execution_count": 83,
   "metadata": {},
   "outputs": [],
   "source": [
    "# to create a input field\n",
    "top = Tk()\n",
    "top.geometry(\"400x400\")\n",
    "L1 = Label(top, text = \"User Name\")\n",
    "L1.pack( side = LEFT)\n",
    "E1 = Entry(top, bd = 5)\n",
    "E1.pack(side = LEFT)\n",
    "\n",
    "top.mainloop()"
   ]
  },
  {
   "cell_type": "code",
   "execution_count": 84,
   "metadata": {},
   "outputs": [],
   "source": [
    "# to create a list box\n",
    "\n",
    "top = Tk()\n",
    "top.geometry(\"400x400\")\n",
    "Lb1 = Listbox(top)\n",
    "Lb1.insert(1, \"Python\")\n",
    "Lb1.insert(2, \"Perl\")\n",
    "Lb1.insert(3, \"C\")\n",
    "Lb1.insert(4, \"PHP\")\n",
    "Lb1.insert(5, \"JSP\")\n",
    "Lb1.insert(6, \"Ruby\")\n",
    "\n",
    "Lb1.pack()\n",
    "top.mainloop()"
   ]
  },
  {
   "cell_type": "code",
   "execution_count": 85,
   "metadata": {},
   "outputs": [],
   "source": [
    "# to create a scale and get the active values\n",
    "def sel():\n",
    "   selection = \"Value = \" + str(var.get())\n",
    "   label.config(text = selection)\n",
    "\n",
    "root = Tk()\n",
    "var = DoubleVar()\n",
    "scale = Scale( root, variable = var )\n",
    "scale.pack(anchor = CENTER)\n",
    "\n",
    "button = Button(root, text = \"Get Scale Value\", command = sel)\n",
    "button.pack(anchor = CENTER)\n",
    "\n",
    "label = Label(root)\n",
    "label.pack()\n",
    "\n",
    "root.mainloop()"
   ]
  },
  {
   "cell_type": "code",
   "execution_count": 86,
   "metadata": {},
   "outputs": [],
   "source": [
    "import numpy as np\n",
    "import matplotlib.pyplot as plt"
   ]
  },
  {
   "cell_type": "code",
   "execution_count": 87,
   "metadata": {},
   "outputs": [
    {
     "data": {
      "text/plain": [
       "[1, 2, 3, 4, 5, 1, 2, 3, 4, 5]"
      ]
     },
     "execution_count": 87,
     "metadata": {},
     "output_type": "execute_result"
    }
   ],
   "source": [
    "x = [1,2,3,4,5]\n",
    "2*x"
   ]
  },
  {
   "cell_type": "code",
   "execution_count": 88,
   "metadata": {},
   "outputs": [
    {
     "data": {
      "text/plain": [
       "[1, 2, 3, 4, 5, 1, 2, 3, 4, 5]"
      ]
     },
     "execution_count": 88,
     "metadata": {},
     "output_type": "execute_result"
    }
   ],
   "source": [
    "x + x "
   ]
  },
  {
   "cell_type": "code",
   "execution_count": 89,
   "metadata": {},
   "outputs": [],
   "source": [
    "nx = np.array(x)"
   ]
  },
  {
   "cell_type": "code",
   "execution_count": 90,
   "metadata": {},
   "outputs": [
    {
     "data": {
      "text/plain": [
       "array([ 2,  4,  6,  8, 10])"
      ]
     },
     "execution_count": 90,
     "metadata": {},
     "output_type": "execute_result"
    }
   ],
   "source": [
    "2*nx"
   ]
  },
  {
   "cell_type": "code",
   "execution_count": 91,
   "metadata": {},
   "outputs": [
    {
     "data": {
      "text/plain": [
       "array([ 2,  4,  6,  8, 10])"
      ]
     },
     "execution_count": 91,
     "metadata": {},
     "output_type": "execute_result"
    }
   ],
   "source": [
    "nx + nx "
   ]
  },
  {
   "cell_type": "code",
   "execution_count": 92,
   "metadata": {},
   "outputs": [],
   "source": [
    "x = np.arange(-20,20,0.5)"
   ]
  },
  {
   "cell_type": "code",
   "execution_count": 93,
   "metadata": {},
   "outputs": [
    {
     "data": {
      "text/plain": [
       "array([-20. , -19.5, -19. , -18.5, -18. , -17.5, -17. , -16.5, -16. ,\n",
       "       -15.5, -15. , -14.5, -14. , -13.5, -13. , -12.5, -12. , -11.5,\n",
       "       -11. , -10.5, -10. ,  -9.5,  -9. ,  -8.5,  -8. ,  -7.5,  -7. ,\n",
       "        -6.5,  -6. ,  -5.5,  -5. ,  -4.5,  -4. ,  -3.5,  -3. ,  -2.5,\n",
       "        -2. ,  -1.5,  -1. ,  -0.5,   0. ,   0.5,   1. ,   1.5,   2. ,\n",
       "         2.5,   3. ,   3.5,   4. ,   4.5,   5. ,   5.5,   6. ,   6.5,\n",
       "         7. ,   7.5,   8. ,   8.5,   9. ,   9.5,  10. ,  10.5,  11. ,\n",
       "        11.5,  12. ,  12.5,  13. ,  13.5,  14. ,  14.5,  15. ,  15.5,\n",
       "        16. ,  16.5,  17. ,  17.5,  18. ,  18.5,  19. ,  19.5])"
      ]
     },
     "execution_count": 93,
     "metadata": {},
     "output_type": "execute_result"
    }
   ],
   "source": [
    "x"
   ]
  },
  {
   "cell_type": "code",
   "execution_count": 94,
   "metadata": {},
   "outputs": [
    {
     "data": {
      "text/plain": [
       "array([486.  , 464.25, 443.  , 422.25, 402.  , 382.25, 363.  , 344.25,\n",
       "       326.  , 308.25, 291.  , 274.25, 258.  , 242.25, 227.  , 212.25,\n",
       "       198.  , 184.25, 171.  , 158.25, 146.  , 134.25, 123.  , 112.25,\n",
       "       102.  ,  92.25,  83.  ,  74.25,  66.  ,  58.25,  51.  ,  44.25,\n",
       "        38.  ,  32.25,  27.  ,  22.25,  18.  ,  14.25,  11.  ,   8.25,\n",
       "         6.  ,   4.25,   3.  ,   2.25,   2.  ,   2.25,   3.  ,   4.25,\n",
       "         6.  ,   8.25,  11.  ,  14.25,  18.  ,  22.25,  27.  ,  32.25,\n",
       "        38.  ,  44.25,  51.  ,  58.25,  66.  ,  74.25,  83.  ,  92.25,\n",
       "       102.  , 112.25, 123.  , 134.25, 146.  , 158.25, 171.  , 184.25,\n",
       "       198.  , 212.25, 227.  , 242.25, 258.  , 274.25, 291.  , 308.25])"
      ]
     },
     "execution_count": 94,
     "metadata": {},
     "output_type": "execute_result"
    }
   ],
   "source": [
    "#  y = x**2 -4x +6\n",
    "y = x**2 -4*x + 6\n",
    "y"
   ]
  },
  {
   "cell_type": "code",
   "execution_count": 95,
   "metadata": {},
   "outputs": [
    {
     "data": {
      "text/plain": [
       "array([486.  , 464.25, 443.  , 422.25, 402.  , 382.25, 363.  , 344.25,\n",
       "       326.  , 308.25, 291.  , 274.25, 258.  , 242.25, 227.  , 212.25,\n",
       "       198.  , 184.25, 171.  , 158.25, 146.  , 134.25, 123.  , 112.25,\n",
       "       102.  ,  92.25,  83.  ,  74.25,  66.  ,  58.25,  51.  ,  44.25,\n",
       "        38.  ,  32.25,  27.  ,  22.25,  18.  ,  14.25,  11.  ,   8.25,\n",
       "         6.  ,   4.25,   3.  ,   2.25,   2.  ,   2.25,   3.  ,   4.25,\n",
       "         6.  ,   8.25,  11.  ,  14.25,  18.  ,  22.25,  27.  ,  32.25,\n",
       "        38.  ,  44.25,  51.  ,  58.25,  66.  ,  74.25,  83.  ,  92.25,\n",
       "       102.  , 112.25, 123.  , 134.25, 146.  , 158.25, 171.  , 184.25,\n",
       "       198.  , 212.25, 227.  , 242.25, 258.  , 274.25, 291.  , 308.25])"
      ]
     },
     "execution_count": 95,
     "metadata": {},
     "output_type": "execute_result"
    }
   ],
   "source": [
    "f = lambda x: x**2 -4*x +6\n",
    "f(x)"
   ]
  },
  {
   "cell_type": "code",
   "execution_count": 96,
   "metadata": {},
   "outputs": [
    {
     "data": {
      "text/plain": [
       "[<matplotlib.lines.Line2D at 0x27bfe0f6380>]"
      ]
     },
     "execution_count": 96,
     "metadata": {},
     "output_type": "execute_result"
    },
    {
     "data": {
      "image/png": "[encoded data removed]",
      "text/plain": [
       "<Figure size 640x480 with 1 Axes>"
      ]
     },
     "metadata": {},
     "output_type": "display_data"
    }
   ],
   "source": [
    "plt.plot(x, f(x))"
   ]
  },
  {
   "cell_type": "code",
   "execution_count": 102,
   "metadata": {},
   "outputs": [
    {
     "data": {
      "text/plain": [
       "(array([ 2.,  2., 10., 13., 32., 19., 11.,  6.,  3.,  2.]),\n",
       " array([-3.16773356, -0.41337351,  2.34098655,  5.0953466 ,  7.84970665,\n",
       "        10.6040667 , 13.35842676, 16.11278681, 18.86714686, 21.62150691,\n",
       "        24.37586697]),\n",
       " <BarContainer object of 10 artists>)"
      ]
     },
     "execution_count": 102,
     "metadata": {},
     "output_type": "execute_result"
    },
    {
     "data": {
      "image/png": "[encoded data removed]",
      "text/plain": [
       "<Figure size 640x480 with 1 Axes>"
      ]
     },
     "metadata": {},
     "output_type": "display_data"
    }
   ],
   "source": [
    "data = np.random.normal(10, 5, 100)\n",
    "plt.hist(data)"
   ]
  },
  {
   "cell_type": "code",
   "execution_count": 100,
   "metadata": {},
   "outputs": [
    {
     "data": {
      "text/plain": [
       "(array([ 3.,  8., 10., 16., 23., 20., 10.,  6.,  3.,  1.]),\n",
       " array([-2.38878999, -1.86368771, -1.33858544, -0.81348316, -0.28838089,\n",
       "         0.23672139,  0.76182366,  1.28692594,  1.81202821,  2.33713049,\n",
       "         2.86223277]),\n",
       " <BarContainer object of 10 artists>)"
      ]
     },
     "execution_count": 100,
     "metadata": {},
     "output_type": "execute_result"
    },
    {
     "data": {
      "image/png": "[encoded data removed]",
      "text/plain": [
       "<Figure size 640x480 with 1 Axes>"
      ]
     },
     "metadata": {},
     "output_type": "display_data"
    }
   ],
   "source": [
    "plt.hist(data)"
   ]
  },
  {
   "cell_type": "code",
   "execution_count": 103,
   "metadata": {},
   "outputs": [
    {
     "data": {
      "text/plain": [
       "array([21.65938912,  8.25169586, 20.37147677, 11.66616717, 14.50284931,\n",
       "        8.86614403,  6.56217604,  8.77553389, 19.05135033, 10.46847849,\n",
       "       16.61649236,  9.31889744,  6.89922985,  6.8734739 , 10.09677318,\n",
       "        7.58842589, 12.4754712 , 10.16103702,  6.32063194,  8.45108716,\n",
       "       16.71231894,  9.84271898, 10.81363317, 10.56870414,  5.63285697,\n",
       "       16.66740396,  6.82677161,  3.08786379,  4.69582762, 15.11123542,\n",
       "        4.74789333,  7.2816891 , 11.32000572, 14.59789225, 13.15227423,\n",
       "       12.44069689, -3.16773356, -0.47883585, 19.02232302,  8.27603271,\n",
       "       14.4256053 ,  7.90589559, 18.01289513,  4.72475629,  3.96103615,\n",
       "        9.52289241,  8.82076904,  9.81278577,  1.81906145,  4.73257382,\n",
       "       10.76198832, 14.15180275, 11.26770544, 15.46984744,  8.16821015,\n",
       "        8.9255956 , 17.91934016, 12.73398109,  8.74746255, 10.84252584,\n",
       "       13.21053574,  9.39972875,  8.68844456, 15.59846058, 10.65448739,\n",
       "        0.55498668, 10.23403069,  8.3123979 , 10.8489636 ,  2.77418864,\n",
       "        4.57046936,  9.995342  , 12.0636469 , 12.52424116, 10.85264393,\n",
       "        9.72084652,  6.55618057,  4.86821747, 10.3919998 , 15.62872515,\n",
       "        7.70849293,  2.61994749, 17.89608832,  8.84838726,  7.2600416 ,\n",
       "       13.7266348 ,  5.30526488,  8.03287489, 24.37586697, 14.81007259,\n",
       "       11.58754567, 10.50286691,  9.68198082, 10.07321142, 13.42865717,\n",
       "        9.5229865 ,  8.78954238, 11.64020206,  5.78064824, 11.1800996 ])"
      ]
     },
     "execution_count": 103,
     "metadata": {},
     "output_type": "execute_result"
    }
   ],
   "source": [
    "data"
   ]
  },
  {
   "cell_type": "code",
   "execution_count": 106,
   "metadata": {},
   "outputs": [
    {
     "data": {
      "text/plain": [
       "array([ 0,  1,  2,  3,  4,  5,  6,  7,  8,  9, 10, 11, 12, 13, 14, 15, 16,\n",
       "       17, 18, 19, 20, 21, 22, 23, 24, 25, 26, 27, 28, 29, 30, 31, 32, 33,\n",
       "       34, 35, 36, 37, 38, 39, 40, 41, 42, 43, 44, 45, 46, 47, 48, 49, 50,\n",
       "       51, 52, 53, 54, 55, 56, 57, 58, 59, 60, 61, 62, 63, 64, 65, 66, 67,\n",
       "       68, 69, 70, 71, 72, 73, 74, 75, 76, 77, 78, 79, 80, 81, 82, 83, 84,\n",
       "       85, 86, 87, 88, 89, 90, 91, 92, 93, 94, 95, 96, 97, 98, 99])"
      ]
     },
     "execution_count": 106,
     "metadata": {},
     "output_type": "execute_result"
    }
   ],
   "source": [
    "counter = np.arange(len(data))\n",
    "counter"
   ]
  },
  {
   "cell_type": "code",
   "execution_count": 113,
   "metadata": {},
   "outputs": [
    {
     "data": {
      "text/plain": [
       "<matplotlib.collections.PathCollection at 0x27b828efbb0>"
      ]
     },
     "execution_count": 113,
     "metadata": {},
     "output_type": "execute_result"
    },
    {
     "data": {
      "image/png": "[encoded data removed]",
      "text/plain": [
       "<Figure size 640x480 with 1 Axes>"
      ]
     },
     "metadata": {},
     "output_type": "display_data"
    }
   ],
   "source": [
    "data = np.random.normal(10, 2.25, 600)\n",
    "plt.scatter(np.arange(len(data)), data)"
   ]
  },
  {
   "cell_type": "code",
   "execution_count": 116,
   "metadata": {},
   "outputs": [
    {
     "data": {
      "image/png": "[encoded data removed]",
      "text/plain": [
       "<Figure size 640x480 with 1 Axes>"
      ]
     },
     "metadata": {},
     "output_type": "display_data"
    }
   ],
   "source": [
    "import matplotlib.pyplot as plt\n",
    "sigma = 5.25\n",
    "mu = 0.\n",
    "count, bins, ignored = plt.hist(data, 30, density=True)\n",
    "plt.plot(bins, 1/(sigma * np.sqrt(2 * np.pi)) * np.exp( - (bins - mu)**2 / (2 * sigma**2) ),linewidth=2, color='r')\n",
    "plt.show()"
   ]
  },
  {
   "cell_type": "code",
   "execution_count": 117,
   "metadata": {},
   "outputs": [
    {
     "data": {
      "text/plain": [
       "[<matplotlib.lines.Line2D at 0x27b8279f310>]"
      ]
     },
     "execution_count": 117,
     "metadata": {},
     "output_type": "execute_result"
    },
    {
     "data": {
      "image/png": "[encoded data removed]",
      "text/plain": [
       "<Figure size 640x480 with 1 Axes>"
      ]
     },
     "metadata": {},
     "output_type": "display_data"
    }
   ],
   "source": [
    "x = np.arange(-10,10, 0.5)\n",
    "sig = lambda x: 1/(1+np.exp(-x))\n",
    "plt.plot(x, sig(x))"
   ]
  },
  {
   "cell_type": "code",
   "execution_count": null,
   "metadata": {},
   "outputs": [],
   "source": []
  }
 ],
 "metadata": {
  "kernelspec": {
   "display_name": "Python 3",
   "language": "python",
   "name": "python3"
  },
  "language_info": {
   "codemirror_mode": {
    "name": "ipython",
    "version": 3
   },
   "file_extension": ".py",
   "mimetype": "text/x-python",
   "name": "python",
   "nbconvert_exporter": "python",
   "pygments_lexer": "ipython3",
   "version": "3.10.5"
  },
  "orig_nbformat": 4
 },
 "nbformat": 4,
 "nbformat_minor": 2
}
