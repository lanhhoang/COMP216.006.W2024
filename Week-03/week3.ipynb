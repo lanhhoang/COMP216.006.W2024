{
 "cells": [
  {
   "cell_type": "markdown",
   "metadata": {},
   "source": [
    "<h2> Classes (continue)</h2>"
   ]
  },
  {
   "cell_type": "code",
   "execution_count": 2,
   "metadata": {},
   "outputs": [],
   "source": [
    "class Student:\n",
    "   studentNr = 0\n",
    "\n",
    "   def __init__(self, name, gpa):   #constructor\n",
    "      self.name = name\n",
    "      self.gpa = gpa\n",
    "      Student.studentNr += 1\n",
    "   \n",
    "   def displayCount(self):\n",
    "     print (\"Total Students\" , Student.studentNr)\n",
    "\n",
    "   def displayStudent(self):\n",
    "      print (\"Name : \", self.name,  \", GPA: \", self.gpa)\n",
    "\n",
    "   # adding two objects\n",
    "   def __add__(self, other):\n",
    "       return self.gpa + other.gpa\n",
    "   \n",
    "   def __str__(self):\n",
    "       return self.name + \" hello world. your gpa is \"  + str(self.gpa)\n",
    "   \n",
    "   "
   ]
  },
  {
   "cell_type": "code",
   "execution_count": 3,
   "metadata": {},
   "outputs": [],
   "source": [
    "#create an object of class\n",
    "s1 = Student(\"Student 1\", 2.8)\n",
    "s2 = Student(\"Student 2\", 3.8)"
   ]
  },
  {
   "cell_type": "code",
   "execution_count": 6,
   "metadata": {},
   "outputs": [
    {
     "data": {
      "text/plain": [
       "'Student 1'"
      ]
     },
     "execution_count": 6,
     "metadata": {},
     "output_type": "execute_result"
    }
   ],
   "source": [
    "#accessing object attributes\n",
    "s1.name"
   ]
  },
  {
   "cell_type": "code",
   "execution_count": 5,
   "metadata": {},
   "outputs": [
    {
     "data": {
      "text/plain": [
       "2"
      ]
     },
     "execution_count": 5,
     "metadata": {},
     "output_type": "execute_result"
    }
   ],
   "source": [
    "# accessing class attributes\n",
    "Student.studentNr"
   ]
  },
  {
   "cell_type": "markdown",
   "metadata": {},
   "source": [
    "<h3>Inheritance </h3>"
   ]
  },
  {
   "cell_type": "code",
   "execution_count": 10,
   "metadata": {},
   "outputs": [],
   "source": [
    "class Vehicle:   #this is the base class\n",
    "    def drive(self):\n",
    "        print(\"Has four wheels\")   \n",
    "\n",
    "class Car(Vehicle):   \n",
    "    def features(self):  \n",
    "        print(\"Transport passengers\")  "
   ]
  },
  {
   "cell_type": "code",
   "execution_count": 11,
   "metadata": {},
   "outputs": [
    {
     "name": "stdout",
     "output_type": "stream",
     "text": [
      "Has four wheels\n"
     ]
    }
   ],
   "source": [
    "c = Car()  \n",
    "c.drive()  \n"
   ]
  },
  {
   "cell_type": "code",
   "execution_count": 12,
   "metadata": {},
   "outputs": [
    {
     "name": "stdout",
     "output_type": "stream",
     "text": [
      "Transport passengers\n"
     ]
    }
   ],
   "source": [
    "c.features()"
   ]
  },
  {
   "cell_type": "markdown",
   "metadata": {},
   "source": [
    "<h2> Method overriding </h2>"
   ]
  },
  {
   "cell_type": "code",
   "execution_count": 14,
   "metadata": {},
   "outputs": [],
   "source": [
    "class Vehicle:   #this is the base class\n",
    "    def drive(self):\n",
    "        print(\"Has four wheels\")   \n",
    "\n",
    "class Car(Vehicle):   \n",
    "    def drive(self):  \n",
    "        print(\"Transport passengers\")  \n",
    "\n",
    "#child class Tesla inherits the base class Car  \n",
    "class Tesla(Car):  \n",
    "    def drive(self):  \n",
    "        print(\"Has Auto Pilot\")  "
   ]
  },
  {
   "cell_type": "code",
   "execution_count": 15,
   "metadata": {},
   "outputs": [
    {
     "name": "stdout",
     "output_type": "stream",
     "text": [
      "Has Auto Pilot\n"
     ]
    }
   ],
   "source": [
    "t = Tesla()\n",
    "t.drive()"
   ]
  },
  {
   "cell_type": "code",
   "execution_count": 27,
   "metadata": {},
   "outputs": [],
   "source": [
    "#how to access overridden methods from parent class \n",
    "class Vehicle:   #this is the base class\n",
    "    def drive(self):\n",
    "        print(\"Has four wheels\")   \n",
    "\n",
    "class Car(Vehicle):   #this is the base class\n",
    "    def drive(self):\n",
    "        print(\"Transport passengers\")  \n",
    "\n",
    "#child class Tesla inherits the base class Car  \n",
    "class Tesla(Car):  \n",
    "    def drive(self):  \n",
    "        Car.drive(self)\n",
    "        print(\"Has Auto Pilot\")  "
   ]
  },
  {
   "cell_type": "code",
   "execution_count": 28,
   "metadata": {},
   "outputs": [
    {
     "name": "stdout",
     "output_type": "stream",
     "text": [
      "Transport passengers\n",
      "Has Auto Pilot\n"
     ]
    }
   ],
   "source": [
    "t = Tesla()\n",
    "t.drive()"
   ]
  },
  {
   "cell_type": "code",
   "execution_count": 29,
   "metadata": {},
   "outputs": [],
   "source": [
    "# also you can use super() class:\n",
    "class Tesla(Car):  \n",
    "    def drive(self):  \n",
    "        super().drive()\n",
    "        print(\"Has Auto Pilot\")  "
   ]
  },
  {
   "cell_type": "code",
   "execution_count": 30,
   "metadata": {},
   "outputs": [
    {
     "name": "stdout",
     "output_type": "stream",
     "text": [
      "Transport passengers\n",
      "Has Auto Pilot\n"
     ]
    }
   ],
   "source": [
    "t2  = Tesla()\n",
    "t2.drive()"
   ]
  },
  {
   "cell_type": "markdown",
   "metadata": {},
   "source": [
    "<h2> Method Overridng </h2>"
   ]
  },
  {
   "cell_type": "code",
   "execution_count": 32,
   "metadata": {},
   "outputs": [],
   "source": [
    "def product(a):\n",
    "    print(a)\n",
    "    "
   ]
  },
  {
   "cell_type": "code",
   "execution_count": 33,
   "metadata": {},
   "outputs": [
    {
     "name": "stdout",
     "output_type": "stream",
     "text": [
      "10\n"
     ]
    }
   ],
   "source": [
    "product(10)"
   ]
  },
  {
   "cell_type": "code",
   "execution_count": 34,
   "metadata": {},
   "outputs": [],
   "source": [
    "def product(a,b):\n",
    "    print(f\" {a} and {b}\")"
   ]
  },
  {
   "cell_type": "code",
   "execution_count": 35,
   "metadata": {},
   "outputs": [
    {
     "name": "stdout",
     "output_type": "stream",
     "text": [
      " 5 and 10\n"
     ]
    }
   ],
   "source": [
    "product(5,10)"
   ]
  },
  {
   "cell_type": "markdown",
   "metadata": {},
   "source": [
    "<h3> static methods </h3>"
   ]
  },
  {
   "cell_type": "code",
   "execution_count": 36,
   "metadata": {},
   "outputs": [
    {
     "name": "stdout",
     "output_type": "stream",
     "text": [
      "10\n"
     ]
    }
   ],
   "source": [
    "\n",
    "class MyClass:\n",
    "    def __init__(self, value):\n",
    "        self.value = value\n",
    " \n",
    "    def get_value(self):\n",
    "        return self.value\n",
    " \n",
    "# Create an instance of MyClass\n",
    "obj = MyClass(10)\n",
    " \n",
    "# Call the get_value method on the instance\n",
    "print(obj.get_value())  # Output: 10"
   ]
  },
  {
   "cell_type": "code",
   "execution_count": 37,
   "metadata": {},
   "outputs": [
    {
     "name": "stdout",
     "output_type": "stream",
     "text": [
      "30\n",
      "30\n"
     ]
    }
   ],
   "source": [
    "#static method uses staticmethod decorator\n",
    "class MyClass:\n",
    "    def __init__(self, value):\n",
    "        self.value = value\n",
    " \n",
    "    @staticmethod\n",
    "    def get_max_value(x, y):\n",
    "        return max(x, y)\n",
    " \n",
    "# Create an instance of MyClass\n",
    "obj = MyClass(10)\n",
    " \n",
    "print(MyClass.get_max_value(20, 30)) \n",
    " \n"
   ]
  },
  {
   "cell_type": "markdown",
   "metadata": {},
   "source": [
    "<h3> LIST Comprehension </h3>\n",
    "<h5> List comprehension means how we can create lists based on existing lists </h5>"
   ]
  },
  {
   "cell_type": "code",
   "execution_count": null,
   "metadata": {},
   "outputs": [],
   "source": [
    "#List comprehensions provide a short and concise way to create lists\n",
    "#Syntex\n",
    "#variable = [out_exp for iterator in input_list if cond]\n",
    "\n",
    "\n"
   ]
  },
  {
   "cell_type": "code",
   "execution_count": 38,
   "metadata": {},
   "outputs": [
    {
     "name": "stdout",
     "output_type": "stream",
     "text": [
      "[2, 4, 6, 8, 10]\n"
     ]
    }
   ],
   "source": [
    "#list_variable = [x for x in iterable]\n",
    "X = [1,2,3,4,5]\n",
    "\n",
    "#if you want to have each element of X multiply by 2\n",
    "\n",
    "X2 = [2*i for i in X]\n",
    "print(X2)"
   ]
  },
  {
   "cell_type": "code",
   "execution_count": 39,
   "metadata": {},
   "outputs": [
    {
     "name": "stdout",
     "output_type": "stream",
     "text": [
      "['c', 'e', 'n', 't', 'e', 'n', 'n', 'i', 'a', 'l', ' ', 'c', 'o', 'l', 'l', 'e', 'g', 'e']\n"
     ]
    }
   ],
   "source": [
    "school_letters = [letter for letter in 'centennial college']\n",
    "print(school_letters)"
   ]
  },
  {
   "cell_type": "code",
   "execution_count": 40,
   "metadata": {},
   "outputs": [
    {
     "name": "stdout",
     "output_type": "stream",
     "text": [
      "['C', 'E', 'N', 'T', 'E', 'N', 'N', 'I', 'A', 'L', ' ', 'C', 'O', 'L', 'L', 'E', 'G', 'E']\n"
     ]
    }
   ],
   "source": [
    "school_letters = [letter.upper() for letter in 'centennial college']\n",
    "print(school_letters)"
   ]
  },
  {
   "cell_type": "code",
   "execution_count": 41,
   "metadata": {},
   "outputs": [
    {
     "name": "stdout",
     "output_type": "stream",
     "text": [
      "['c', 'e', 't', 'e', 'i', 'a', 'l', ' ', 'c', 'o', 'l', 'l', 'e', 'g', 'e']\n"
     ]
    }
   ],
   "source": [
    "#You can also use conditions\n",
    "school_letters = [letter for letter in 'centennial college' if letter !='n']\n",
    "print(school_letters)\n"
   ]
  },
  {
   "cell_type": "code",
   "execution_count": 42,
   "metadata": {},
   "outputs": [
    {
     "name": "stdout",
     "output_type": "stream",
     "text": [
      "[0, 1, 2, 3, 4, 5, 6, 7, 8, 9]\n"
     ]
    }
   ],
   "source": [
    "#how we can get all 'even' number from 0 to 100\n",
    "number_list = [x for x in range(10)]\n",
    "print(number_list)"
   ]
  },
  {
   "cell_type": "code",
   "execution_count": 43,
   "metadata": {},
   "outputs": [
    {
     "name": "stdout",
     "output_type": "stream",
     "text": [
      "[0, 2, 4, 6, 8, 10, 12, 14, 16, 18, 20, 22, 24, 26, 28, 30, 32, 34, 36, 38, 40, 42, 44, 46, 48, 50, 52, 54, 56, 58, 60, 62, 64, 66, 68, 70, 72, 74, 76, 78, 80, 82, 84, 86, 88, 90, 92, 94, 96, 98]\n"
     ]
    }
   ],
   "source": [
    "number_list = [x for x in range(100) if x%2==0]\n",
    "print(number_list)"
   ]
  },
  {
   "cell_type": "code",
   "execution_count": 44,
   "metadata": {},
   "outputs": [
    {
     "name": "stdout",
     "output_type": "stream",
     "text": [
      "[[1, 2, 3], [4, 5, 6], [7, 8, 9]]\n"
     ]
    }
   ],
   "source": [
    "#This is a 3x3 matrix\n",
    "matrix = [[1, 2, 3], \n",
    "    [4, 5, 6], \n",
    "    [7, 8, 9]]\n",
    "\n",
    "#how can we convert this to an array ?\n",
    "values = [num for num in matrix]\n",
    "print(values)\n"
   ]
  },
  {
   "cell_type": "code",
   "execution_count": 45,
   "metadata": {},
   "outputs": [
    {
     "name": "stdout",
     "output_type": "stream",
     "text": [
      "[1, 2, 3, 4, 5, 6, 7, 8, 9]\n"
     ]
    }
   ],
   "source": [
    "values = [num for vec in matrix for num in vec]\n",
    "print(values)"
   ]
  },
  {
   "cell_type": "code",
   "execution_count": 46,
   "metadata": {},
   "outputs": [
    {
     "name": "stdout",
     "output_type": "stream",
     "text": [
      "[(1, 3), (1, 1), (1, 4), (2, 3), (2, 1), (2, 4), (3, 3), (3, 1), (3, 4)]\n"
     ]
    }
   ],
   "source": [
    "combs = [(x, y) for x in [1, 2, 3] for y in [3, 1, 4]]\n",
    "print(combs)\n",
    "\n"
   ]
  },
  {
   "cell_type": "code",
   "execution_count": 47,
   "metadata": {},
   "outputs": [
    {
     "name": "stdout",
     "output_type": "stream",
     "text": [
      "1 3\n",
      "1 1\n",
      "1 4\n",
      "2 3\n",
      "2 1\n",
      "2 4\n",
      "3 3\n",
      "3 1\n",
      "3 4\n"
     ]
    }
   ],
   "source": [
    "for x in [1,2,3]:\n",
    "    for y in [3,1,4]:\n",
    "        print (x, y)"
   ]
  },
  {
   "cell_type": "code",
   "execution_count": 48,
   "metadata": {},
   "outputs": [
    {
     "name": "stdout",
     "output_type": "stream",
     "text": [
      "[(1, 3, 3), (1, 3, 4), (1, 3, 6), (1, 1, 3), (1, 1, 4), (1, 1, 6), (1, 4, 3), (1, 4, 4), (1, 4, 6), (2, 3, 3), (2, 3, 4), (2, 3, 6), (2, 1, 3), (2, 1, 4), (2, 1, 6), (2, 4, 3), (2, 4, 4), (2, 4, 6), (3, 3, 3), (3, 3, 4), (3, 3, 6), (3, 1, 3), (3, 1, 4), (3, 1, 6), (3, 4, 3), (3, 4, 4), (3, 4, 6)]\n"
     ]
    }
   ],
   "source": [
    "combs = [(x, y, z) for x in [1, 2, 3] for y in [3, 1, 4] for z in [3,4,6]]\n",
    "print(combs)"
   ]
  },
  {
   "cell_type": "code",
   "execution_count": 49,
   "metadata": {},
   "outputs": [
    {
     "name": "stdout",
     "output_type": "stream",
     "text": [
      "[(1, 5), (2, 6), (3, 7), (4, 8)]\n"
     ]
    }
   ],
   "source": [
    "# to zip together\n",
    "X = [1,2,3,4]\n",
    "Y = [5,6,7,8,7]\n",
    "combs = [(_x, _y) for _x, _y in zip(X, Y)]\n",
    "print(combs)"
   ]
  },
  {
   "cell_type": "code",
   "execution_count": 50,
   "metadata": {},
   "outputs": [
    {
     "data": {
      "text/plain": [
       "[{1: 3}, {1: 4}, {2: 3}, {2: 1}, {2: 4}, {3: 1}, {3: 4}]"
      ]
     },
     "execution_count": 50,
     "metadata": {},
     "output_type": "execute_result"
    }
   ],
   "source": [
    "combs = [{x:y} for x in [1, 2, 3] for y in [3, 1, 4] if x != y]\n",
    "combs"
   ]
  },
  {
   "cell_type": "markdown",
   "metadata": {},
   "source": [
    "<h3>Set Comprehension</h3>"
   ]
  },
  {
   "cell_type": "code",
   "execution_count": 53,
   "metadata": {},
   "outputs": [
    {
     "name": "stdout",
     "output_type": "stream",
     "text": [
      "{8, 1, 27}\n"
     ]
    }
   ],
   "source": [
    "#Syntax:\n",
    "#variable = {out_exp for iterator in input_list if cond}\n",
    "cubes = {x * x * x for x in [ 1, 2, 3]} \n",
    "print(cubes)"
   ]
  },
  {
   "cell_type": "code",
   "execution_count": 54,
   "metadata": {},
   "outputs": [
    {
     "name": "stdout",
     "output_type": "stream",
     "text": [
      "{8, 1, 27, 64}\n"
     ]
    }
   ],
   "source": [
    "#remember that set should have unique elements\n",
    "cubes = {x * x * x for x in [ 1, 2, 3, 1,2,4]} \n",
    "print(cubes)"
   ]
  },
  {
   "cell_type": "markdown",
   "metadata": {},
   "source": [
    "<h3>Dictionary Comprehension</h3>\n"
   ]
  },
  {
   "cell_type": "code",
   "execution_count": 55,
   "metadata": {},
   "outputs": [
    {
     "name": "stdout",
     "output_type": "stream",
     "text": [
      "{'a': 3, 'b': 6, 'c': 10, 'd': 5, 'e': 20}\n"
     ]
    }
   ],
   "source": [
    "#Syntax: variable = {out_exp for out_exp in input_list if out_exp == 2}\n",
    "raw = {'a': 3, 'b': 6, 'c': 10, 'D': 5, 'E': 20}\n",
    "freq = { k.lower(): raw.get(k)  for k in raw.keys() }\n",
    "# freq = { k.lower(): raw.get(k.lower(), 0)  for k in raw.keys() } #notice here set value to 0 if no key available\n",
    "print(freq)"
   ]
  },
  {
   "cell_type": "code",
   "execution_count": 56,
   "metadata": {},
   "outputs": [
    {
     "name": "stdout",
     "output_type": "stream",
     "text": [
      "{'a': 3, 'b': 6, 'z': 0}\n"
     ]
    }
   ],
   "source": [
    "#dictionary should contain  unique keys. In the following example, all duplicates are ignored\n",
    "raw = {'a': 3, 'b': 6, 'A': 10, 'Z': 5, 'B': 20}\n",
    "freq = { k.lower(): raw.get(k.lower(), 0) for k in raw.keys() }\n",
    "print(freq)"
   ]
  },
  {
   "cell_type": "markdown",
   "metadata": {},
   "source": [
    "<h3>Nested functions </h3>\n"
   ]
  },
  {
   "cell_type": "code",
   "execution_count": null,
   "metadata": {},
   "outputs": [],
   "source": [
    "#A nested function is a function that is declared inside of another function\n",
    "\n",
    "#The inner function may \n",
    "# -> accept arguments, \n",
    "# -> declare its own variables \n",
    "# -> and access the (non-local) variable of the outer function"
   ]
  },
  {
   "cell_type": "code",
   "execution_count": 3,
   "metadata": {},
   "outputs": [],
   "source": [
    "def makeEntity(kind): \n",
    "\n",
    "  def client(): \n",
    "    return 'I am a client!'\n",
    "  def server(): \n",
    "    return 'I am a server!'\n",
    "\n",
    "\n",
    "  if kind == 'client' : \n",
    "    return client                      #returns the function client\n",
    "  else : \n",
    "    return server\n",
    "\n"
   ]
  },
  {
   "cell_type": "code",
   "execution_count": 6,
   "metadata": {},
   "outputs": [
    {
     "data": {
      "text/plain": [
       "'I am a client!'"
      ]
     },
     "execution_count": 6,
     "metadata": {},
     "output_type": "execute_result"
    }
   ],
   "source": [
    "#remember here, makeEntity returns a function, so need to call with additional ()\n",
    "makeEntity('client')()"
   ]
  },
  {
   "cell_type": "markdown",
   "metadata": {},
   "source": [
    "<h3> Closure </h3>"
   ]
  },
  {
   "cell_type": "code",
   "execution_count": null,
   "metadata": {},
   "outputs": [],
   "source": [
    "#With closure:\n",
    "#There should be nested function i.e. function inside a function.\n",
    "#The inner function must refer to a non-local variable or the local variable of the outer function.\n",
    "#The outer function must return the inner function"
   ]
  },
  {
   "cell_type": "code",
   "execution_count": 8,
   "metadata": {},
   "outputs": [],
   "source": [
    "def adder(x): \n",
    "  def add(y): \n",
    "    return x+ y\n",
    "  return add "
   ]
  },
  {
   "cell_type": "code",
   "execution_count": 9,
   "metadata": {},
   "outputs": [],
   "source": [
    "#here incrementBy_x are functions\n",
    "incrementBy_2 = adder(2) \n",
    "incrementBy_3 = adder(3) \n",
    "incrementBy_9 = adder(9) "
   ]
  },
  {
   "cell_type": "code",
   "execution_count": 10,
   "metadata": {},
   "outputs": [
    {
     "name": "stdout",
     "output_type": "stream",
     "text": [
      "5\n"
     ]
    }
   ],
   "source": [
    "print(incrementBy_2(3))"
   ]
  },
  {
   "cell_type": "code",
   "execution_count": 11,
   "metadata": {},
   "outputs": [
    {
     "name": "stdout",
     "output_type": "stream",
     "text": [
      "8\n"
     ]
    }
   ],
   "source": [
    "print(incrementBy_3(5))"
   ]
  },
  {
   "cell_type": "markdown",
   "metadata": {},
   "source": [
    "<h3>Parallelism, Concurrency and Threading </h3>"
   ]
  },
  {
   "cell_type": "code",
   "execution_count": null,
   "metadata": {},
   "outputs": [],
   "source": [
    "#Parallelism is doing multiple jobs at the same time\n",
    "# -------> This is only possible if you have multiple CPUs or multi-core CPU\n",
    "\n",
    "#Concurrency is the appearance of doing multiple jobs at the same time\n",
    "# -------> This is possible because of the scheduler.\n",
    "# -------> It performs a bit of a job and then suspends it and another job is processed.\n",
    "# -------> This happens so fast that it seems seamless to the user\n",
    "# -------> Threads is probable the easiest way to implement concurrency\n",
    "\n"
   ]
  },
  {
   "cell_type": "code",
   "execution_count": 12,
   "metadata": {},
   "outputs": [],
   "source": [
    "import threading, time\n",
    "def sleeper(t, name):\n",
    "  print(f'{name} going to sleep for {t}s')\n",
    "  time.sleep(t)                      \n",
    "  print(f'{name} has awoken from sleep') \n",
    "\n",
    "\n"
   ]
  },
  {
   "cell_type": "code",
   "execution_count": 17,
   "metadata": {},
   "outputs": [],
   "source": [
    "#create a thread\n",
    "t = threading.Thread(target = sleeper,name = 'thread1', args = (5, 'thread1x'))"
   ]
  },
  {
   "cell_type": "code",
   "execution_count": 18,
   "metadata": {},
   "outputs": [],
   "source": [
    "#create another thread\n",
    "t2 = threading.Thread(target = sleeper,name = 'thread2', args = (4.5, 'thread2y'))"
   ]
  },
  {
   "cell_type": "code",
   "execution_count": 19,
   "metadata": {},
   "outputs": [
    {
     "name": "stdout",
     "output_type": "stream",
     "text": [
      "thread1x going to sleep for 5s\n",
      "thread2y going to sleep for 4.5s\n",
      "10 active threads\n",
      "thread2y has awoken from sleep\n",
      "thread1x has awoken from sleep\n",
      "program has terminated\n"
     ]
    }
   ],
   "source": [
    "t.start()                    #starts the thread execution\n",
    "t2.start()\n",
    "print(f'{threading.active_count()} active threads')\n",
    "t.join()                     #execution blocks until this thread is completed\n",
    "t2.join()\n",
    "print('program has terminated')"
   ]
  },
  {
   "cell_type": "markdown",
   "metadata": {},
   "source": [
    "<h1>GUI Applications </h1>"
   ]
  },
  {
   "cell_type": "code",
   "execution_count": null,
   "metadata": {},
   "outputs": [],
   "source": [
    "#GUI toolkits for Python\n",
    "#wxPython\n",
    "# ----> A Python wrapper around a C++ library called wxWidgets. \n",
    "# ----> Uses actual widgets on the native platform whenever possible\n",
    "# ----> Applications look native to the operating system that it is running on.\n",
    "# ----> Does not come with the default installation.\n",
    "\n",
    "#PyQt\n",
    "# ----> Bindings for the Qt cross-platform C++ framework\n",
    "# ----> Both this and the toolkit below does not use platform widgets, so they are lighter and faster\n",
    "\n"
   ]
  },
  {
   "cell_type": "code",
   "execution_count": null,
   "metadata": {},
   "outputs": [],
   "source": [
    "#Tkinter\n",
    "# ----> The default gui toolkit for standard installation\n",
    "# ----> This is the one we will be using in this course\n",
    "# ----> It is a part of the Python standard library\n",
    "# ----> Almost universally available wherever python is\n",
    "# ----> Very stable\n",
    "#-----> Lacks more complex widgets e.g. rich text, HTML rendering\n",
    "\n"
   ]
  },
  {
   "cell_type": "code",
   "execution_count": 20,
   "metadata": {},
   "outputs": [],
   "source": [
    "# to import tkinter library\n",
    "from tkinter import *\n",
    "from tkinter import messagebox\n"
   ]
  },
  {
   "cell_type": "code",
   "execution_count": 21,
   "metadata": {},
   "outputs": [],
   "source": [
    "top = Tk()\n",
    "top.mainloop()"
   ]
  },
  {
   "cell_type": "code",
   "execution_count": 22,
   "metadata": {},
   "outputs": [],
   "source": [
    "# To add a button\n",
    "top = Tk()\n",
    "top.geometry(\"400x400\")\n",
    "def helloCallBack():\n",
    "   msg = messagebox.showinfo( \"Hello Python\", \"Hello World\")\n",
    "\n",
    "B = Button(top, text = \"My Button\", command = helloCallBack)\n",
    "B.place(x = 150,y = 150)\n",
    "top.mainloop()\n",
    "\n"
   ]
  },
  {
   "cell_type": "code",
   "execution_count": 23,
   "metadata": {},
   "outputs": [],
   "source": [
    "# to create a canvas\n",
    "top = Tk()\n",
    "\n",
    "C = Canvas(top, bg = \"green\", height = 250, width = 300)\n",
    "\n",
    "coord = 10, 50, 240, 210\n",
    "arc = C.create_arc(coord, start = 0, extent = 50, fill = \"yellow\")\n",
    "line = C.create_line(10,200,200,200,fill = 'white')\n",
    "C.pack()\n",
    "top.mainloop()"
   ]
  },
  {
   "cell_type": "code",
   "execution_count": 24,
   "metadata": {},
   "outputs": [],
   "source": [
    "# to create a check button\n",
    "top = Tk()\n",
    "CheckVar1 = IntVar()\n",
    "CheckVar2 = IntVar()\n",
    "C1 = Checkbutton(top, text = \"Python\", variable = CheckVar1, \\\n",
    "                 onvalue = 1, offvalue = 0, height=5, \\\n",
    "                 width = 20, )\n",
    "C2 = Checkbutton(top, text = \"Java\", variable = CheckVar2, \\\n",
    "                 onvalue = 1, offvalue = 0, height=5, \\\n",
    "                 width = 20)\n",
    "C1.pack()\n",
    "C2.pack()\n",
    "top.mainloop()"
   ]
  },
  {
   "cell_type": "code",
   "execution_count": 25,
   "metadata": {},
   "outputs": [],
   "source": [
    "# to create a input field\n",
    "top = Tk()\n",
    "top.geometry(\"400x400\")\n",
    "L1 = Label(top, text = \"User Name\")\n",
    "L1.pack( side = LEFT)\n",
    "E1 = Entry(top, bd = 5)\n",
    "E1.pack(side = RIGHT)\n",
    "\n",
    "top.mainloop()"
   ]
  },
  {
   "cell_type": "code",
   "execution_count": 26,
   "metadata": {},
   "outputs": [],
   "source": [
    "# to create a list box\n",
    "\n",
    "top = Tk()\n",
    "top.geometry(\"400x400\")\n",
    "Lb1 = Listbox(top)\n",
    "Lb1.insert(1, \"Python\")\n",
    "Lb1.insert(2, \"Perl\")\n",
    "Lb1.insert(3, \"C\")\n",
    "Lb1.insert(4, \"PHP\")\n",
    "Lb1.insert(5, \"JSP\")\n",
    "Lb1.insert(6, \"Ruby\")\n",
    "\n",
    "Lb1.pack()\n",
    "top.mainloop()"
   ]
  },
  {
   "cell_type": "code",
   "execution_count": 27,
   "metadata": {},
   "outputs": [],
   "source": [
    "# to create a scale and get the active values\n",
    "def sel():\n",
    "   selection = \"Value = \" + str(var.get())\n",
    "   label.config(text = selection)\n",
    "\n",
    "root = Tk()\n",
    "var = DoubleVar()\n",
    "scale = Scale( root, variable = var )\n",
    "scale.pack(anchor = CENTER)\n",
    "\n",
    "button = Button(root, text = \"Get Scale Value\", command = sel)\n",
    "button.pack(anchor = CENTER)\n",
    "\n",
    "label = Label(root)\n",
    "label.pack()\n",
    "\n",
    "root.mainloop()"
   ]
  },
  {
   "cell_type": "code",
   "execution_count": null,
   "metadata": {},
   "outputs": [],
   "source": [
    "# You can find more examples in lecture notes prepared by Narendra\n"
   ]
  },
  {
   "cell_type": "markdown",
   "metadata": {},
   "source": [
    "<h1>Numpy </h1>"
   ]
  },
  {
   "cell_type": "code",
   "execution_count": null,
   "metadata": {},
   "outputs": [],
   "source": [
    "# numpy is a package suitable for numerical computation. \n",
    "# You may not need this library in networking application\n",
    "# But it is extremly used in scientific calculations specially in data science\n"
   ]
  },
  {
   "cell_type": "code",
   "execution_count": 28,
   "metadata": {},
   "outputs": [],
   "source": [
    "import numpy as np"
   ]
  },
  {
   "cell_type": "code",
   "execution_count": 29,
   "metadata": {},
   "outputs": [
    {
     "data": {
      "text/plain": [
       "array([0, 1, 2, 3, 4, 5, 6, 7, 8, 9])"
      ]
     },
     "execution_count": 29,
     "metadata": {},
     "output_type": "execute_result"
    }
   ],
   "source": [
    "# if you want to create a list of numerical values\n",
    "a = np.arange(0, 10)\n",
    "a"
   ]
  },
  {
   "cell_type": "code",
   "execution_count": 30,
   "metadata": {},
   "outputs": [
    {
     "data": {
      "text/plain": [
       "array([0, 2, 4, 6, 8])"
      ]
     },
     "execution_count": 30,
     "metadata": {},
     "output_type": "execute_result"
    }
   ],
   "source": [
    "# you can also define the step\n",
    "a = np.arange(0, 10, 2)\n",
    "a"
   ]
  },
  {
   "cell_type": "code",
   "execution_count": null,
   "metadata": {},
   "outputs": [],
   "source": [
    "#if you want to an array with specified number of items\n",
    "# you can use\n",
    "# linspace(start, stop, [number_of_values=50]"
   ]
  },
  {
   "cell_type": "code",
   "execution_count": 31,
   "metadata": {},
   "outputs": [
    {
     "data": {
      "text/plain": [
       "array([0., 1., 2., 3., 4., 5., 6., 7., 8., 9.])"
      ]
     },
     "execution_count": 31,
     "metadata": {},
     "output_type": "execute_result"
    }
   ],
   "source": [
    "b = np.linspace(0, 9, 10)\n",
    "b"
   ]
  },
  {
   "cell_type": "code",
   "execution_count": 32,
   "metadata": {},
   "outputs": [
    {
     "data": {
      "text/plain": [
       "array([0., 1., 2., 3., 4., 5., 6., 7., 8., 9.])"
      ]
     },
     "execution_count": 32,
     "metadata": {},
     "output_type": "execute_result"
    }
   ],
   "source": [
    "# you can define data type\n",
    "a = np.arange(0, 10, dtype=float)\n",
    "a"
   ]
  },
  {
   "cell_type": "code",
   "execution_count": 33,
   "metadata": {},
   "outputs": [
    {
     "data": {
      "text/plain": [
       "array([[1, 2],\n",
       "       [3, 4],\n",
       "       [5, 6],\n",
       "       [7, 8]])"
      ]
     },
     "execution_count": 33,
     "metadata": {},
     "output_type": "execute_result"
    }
   ],
   "source": [
    "# you can create a nested array (matrix)\n",
    "c = np.array([[1, 2], [3, 4], [5, 6], [7,8]]) \n",
    "c\n"
   ]
  },
  {
   "cell_type": "code",
   "execution_count": 34,
   "metadata": {},
   "outputs": [
    {
     "data": {
      "text/plain": [
       "array([0.71313052, 0.68749499, 0.6770073 , 0.86941415, 0.92163296,\n",
       "       0.98587555, 0.1448943 , 0.43708089, 0.79864514, 0.22620491])"
      ]
     },
     "execution_count": 34,
     "metadata": {},
     "output_type": "execute_result"
    }
   ],
   "source": [
    "# to create random values\n",
    "f = np.random.rand(10)\n",
    "f"
   ]
  },
  {
   "cell_type": "code",
   "execution_count": null,
   "metadata": {},
   "outputs": [],
   "source": [
    "# Please check python notebook file in your course shell to get more examples"
   ]
  },
  {
   "cell_type": "code",
   "execution_count": 35,
   "metadata": {},
   "outputs": [
    {
     "data": {
      "text/plain": [
       "array([[0.43595382, 0.50336914, 0.96713908],\n",
       "       [0.76071082, 0.50340178, 0.71503962]])"
      ]
     },
     "execution_count": 35,
     "metadata": {},
     "output_type": "execute_result"
    }
   ],
   "source": [
    "np.random.rand(2,3)"
   ]
  },
  {
   "cell_type": "markdown",
   "metadata": {},
   "source": [
    "<h1>Matplotlib</h1>"
   ]
  },
  {
   "cell_type": "code",
   "execution_count": null,
   "metadata": {},
   "outputs": [],
   "source": [
    "# Matplotlib is a graphical library for generating high quality scientific figures.\n",
    "# Matplotlib is a very popular tool used in data related fields such statistics, data science, machine learning "
   ]
  },
  {
   "cell_type": "code",
   "execution_count": 36,
   "metadata": {},
   "outputs": [],
   "source": [
    "\n",
    "import matplotlib.pyplot as plt\n",
    "\n"
   ]
  },
  {
   "cell_type": "code",
   "execution_count": 37,
   "metadata": {},
   "outputs": [
    {
     "data": {
      "image/png": "[encoded data removed]",
      "text/plain": [
       "<Figure size 432x288 with 1 Axes>"
      ]
     },
     "metadata": {
      "needs_background": "light"
     },
     "output_type": "display_data"
    }
   ],
   "source": [
    "x = [1,2,3,4]\n",
    "y = [5, -2, 3, 6] #the data points\n",
    "\n",
    "plt.plot(x,y)      #the second set of points is generated by matplotlib\n",
    "plt.show()       #shows the output onscreen"
   ]
  },
  {
   "cell_type": "code",
   "execution_count": 38,
   "metadata": {},
   "outputs": [
    {
     "data": {
      "image/png": "[encoded data removed]",
      "text/plain": [
       "<Figure size 432x288 with 1 Axes>"
      ]
     },
     "metadata": {
      "needs_background": "light"
     },
     "output_type": "display_data"
    }
   ],
   "source": [
    "x = np.arange(0, 5, 0.1)\n",
    "y = [ele**2 - 5*ele + 1 for ele in x]  # y = x*x - 5x + 1\n",
    "plt.plot(x,y)\n",
    "plt.show()\n"
   ]
  },
  {
   "cell_type": "code",
   "execution_count": 39,
   "metadata": {},
   "outputs": [
    {
     "data": {
      "image/png": "[encoded data removed]",
      "text/plain": [
       "<Figure size 432x288 with 1 Axes>"
      ]
     },
     "metadata": {
      "needs_background": "light"
     },
     "output_type": "display_data"
    }
   ],
   "source": [
    "temp = [22.2, 22.1, 22.5, 21.9, 22.1, 22.6, 22.3]\n",
    "days = 'Sun Mon Tue Wed Thu Fri Sat'.split()\n",
    "plt.plot(days, temp)\n",
    "plt.show()"
   ]
  },
  {
   "cell_type": "code",
   "execution_count": 40,
   "metadata": {},
   "outputs": [
    {
     "data": {
      "image/png": "[encoded data removed]",
      "text/plain": [
       "<Figure size 432x288 with 1 Axes>"
      ]
     },
     "metadata": {
      "needs_background": "light"
     },
     "output_type": "display_data"
    }
   ],
   "source": [
    "x = np.arange(0, 20, .2)\n",
    "y = np.sin(x)\n",
    "plt.plot(x,y)\n",
    "plt.show()"
   ]
  },
  {
   "cell_type": "code",
   "execution_count": 41,
   "metadata": {},
   "outputs": [
    {
     "name": "stdout",
     "output_type": "stream",
     "text": [
      "[0.  0.2 0.4 0.6 0.8 1.  1.2 1.4 1.6 1.8 2.  2.2 2.4 2.6 2.8 3.  3.2 3.4\n",
      " 3.6 3.8 4.  4.2 4.4 4.6 4.8]\n"
     ]
    },
    {
     "data": {
      "image/png": "[encoded data removed]",
      "text/plain": [
       "<Figure size 432x288 with 1 Axes>"
      ]
     },
     "metadata": {
      "needs_background": "light"
     },
     "output_type": "display_data"
    }
   ],
   "source": [
    "# you can have multiple plots in single graph\n",
    "t = np.arange(0, 5, .2)\n",
    "print(t)\n",
    "plt.plot(t, t*.4, 'r--', t, t**.5, 'b+', t, np.sin(t), 'g^')\n",
    "plt.title('Some  curves')\n",
    "plt.show()"
   ]
  },
  {
   "cell_type": "code",
   "execution_count": 42,
   "metadata": {},
   "outputs": [
    {
     "data": {
      "image/png": "[encoded data removed]",
      "text/plain": [
       "<Figure size 432x288 with 1 Axes>"
      ]
     },
     "metadata": {
      "needs_background": "light"
     },
     "output_type": "display_data"
    }
   ],
   "source": [
    "#ploting a bar chart\n",
    "height = [3, 12, 5, 18, 11]\n",
    "bars = ('A', 'B', 'C', 'D', 'E')\n",
    "plt.bar(bars, height)\n",
    "plt.show()\n"
   ]
  },
  {
   "cell_type": "code",
   "execution_count": 43,
   "metadata": {},
   "outputs": [
    {
     "data": {
      "image/png": "[encoded data removed]",
      "text/plain": [
       "<Figure size 432x288 with 1 Axes>"
      ]
     },
     "metadata": {
      "needs_background": "light"
     },
     "output_type": "display_data"
    }
   ],
   "source": [
    "# Plotting a horizontal bar chart. A label is set for the x-axis\n",
    "weight = [3, 2, 10, 8, 5]\n",
    "items = 'Apple Banana Cherry Dorian Grape'. split()\n",
    "plt.barh(items, weight, color='#ff9966')\n",
    "plt.xlabel('Quantity /kg')\n",
    "plt.show()"
   ]
  },
  {
   "cell_type": "code",
   "execution_count": 44,
   "metadata": {},
   "outputs": [
    {
     "data": {
      "image/png": "[encoded data removed]",
      "text/plain": [
       "<Figure size 432x288 with 1 Axes>"
      ]
     },
     "metadata": {
      "needs_background": "light"
     },
     "output_type": "display_data"
    }
   ],
   "source": [
    "# A scatter plot is shown below.\n",
    "x = np.random.randn(150)\n",
    "y = np.random.randn(150)\n",
    "x1 = np.random.randn(50)\n",
    "y1 = np.random.randn(50)\n",
    "plt.scatter(x, y)\n",
    "plt.scatter(x1, y1)\n",
    "plt.show()\n"
   ]
  },
  {
   "cell_type": "code",
   "execution_count": 45,
   "metadata": {},
   "outputs": [
    {
     "data": {
      "image/png": "[encoded data removed]",
      "text/plain": [
       "<Figure size 432x288 with 1 Axes>"
      ]
     },
     "metadata": {},
     "output_type": "display_data"
    }
   ],
   "source": [
    "# Pie Chart\n",
    "weight = [3, 2, 10, 8, 5]\n",
    "items = 'Apple Banana Cherry Dorian Grape'. split()\n",
    "plt.pie(weight, labels=items)\n",
    "plt.show()"
   ]
  },
  {
   "cell_type": "code",
   "execution_count": 46,
   "metadata": {},
   "outputs": [
    {
     "data": {
      "image/png": "[encoded data removed]",
      "text/plain": [
       "<Figure size 432x288 with 4 Axes>"
      ]
     },
     "metadata": {
      "needs_background": "light"
     },
     "output_type": "display_data"
    }
   ],
   "source": [
    "# display multiple plots\n",
    "plt.suptitle('Four figures in one', color='blue', fontsize=20)\n",
    "\n",
    "# the first plot\n",
    "plt.subplot(221)\n",
    "plt.title('Line Chart', loc='left')\n",
    "temp = [22.2, 22.3, 22.5, 21.8, 22.5, 23.4, 22.8]\n",
    "days = 'Sun Mon Tue Wed Thu Fri Sat'.split()\n",
    "plt.plot(days, temp)\n",
    "\n",
    "#the second plot\n",
    "plt.subplot(222)\n",
    "plt.title('Bar Chart', loc='right')\n",
    "weight = [3, 2, 10, 8, 5]\n",
    "items = 'A B C D E'. split()\n",
    "plt.bar(items, weight, color='#6699ff')\n",
    "\n",
    "#the third plot\n",
    "plt.subplot(223)\n",
    "plt.title('Pie Chart')\n",
    "weight = [3, 2, 10, 8, 5]\n",
    "items = 'Apple Banana Cherry Dorian Grape'. split()\n",
    "plt.pie(weight, labels=items)\n",
    "\n",
    "#the fourth plot\n",
    "plt.subplot(224)\n",
    "plt.title('Horizontal Bar Chart')\n",
    "weight = [3, 2, 10, 8, 5]\n",
    "items = 'Apple Banana Cherry Dorian Grape'. split()\n",
    "plt.barh(items, weight, color='#ff9966')\n",
    "plt.xlabel('Quantity /kg')\n",
    "\n",
    "\n",
    "plt.tight_layout()\n",
    "#now show the plot\n",
    "plt.show()\n"
   ]
  },
  {
   "cell_type": "code",
   "execution_count": null,
   "metadata": {},
   "outputs": [],
   "source": [
    "# Please check lecture notes for more details ...."
   ]
  }
 ],
 "metadata": {
  "interpreter": {
   "hash": "1448b48b023bcc9c3d4a79e814720a10ca6d4244f75e0f7ce4af58f96ba2b7d3"
  },
  "kernelspec": {
   "display_name": "Python 3.9.7 64-bit ('base': conda)",
   "language": "python",
   "name": "python3"
  },
  "language_info": {
   "codemirror_mode": {
    "name": "ipython",
    "version": 3
   },
   "file_extension": ".py",
   "mimetype": "text/x-python",
   "name": "python",
   "nbconvert_exporter": "python",
   "pygments_lexer": "ipython3",
   "version": "3.7.11"
  },
  "orig_nbformat": 4
 },
 "nbformat": 4,
 "nbformat_minor": 2
}
