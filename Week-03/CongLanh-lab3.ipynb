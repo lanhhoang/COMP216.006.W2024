{
 "cells": [
  {
   "cell_type": "code",
   "execution_count": 26,
   "metadata": {},
   "outputs": [],
   "source": [
    "class Shopper():\n",
    "  __prices = {\"apple\": 1.99, \"bread\": 2.19, \"milk\": 4.96, \"pepper\": 1.25}\n",
    "  __sale_items = \"pepper banana\".split()\n",
    "  __credit_threshold = 6\n",
    "  __default_price = 2.50\n",
    "  __volume_discount = 0.9\n",
    "  __sales_discount = 0.85\n",
    "\n",
    "  @staticmethod\n",
    "  def price_list():\n",
    "    return Shopper.__prices\n",
    "\n",
    "  @staticmethod\n",
    "  def sale_items():\n",
    "    return Shopper.__sale_items\n",
    "\n",
    "  def __init__(self, name, cash_amt):\n",
    "    self.__name = name\n",
    "    self.__cash_amt = cash_amt\n",
    "    self.__bought_items = []\n",
    "  \n",
    "  @property\n",
    "  def name(self):\n",
    "    return self.__name\n",
    "\n",
    "  def __str__(self):\n",
    "    return f\"{self.name} cash in hand is {'${:,.2f}'.format(self.__cash_amt)}\\nitems:\\n{self.__bought_items}\"\n",
    "  \n",
    "  def purchase(self, items):\n",
    "    total_cost = 0\n",
    "    for item in items:\n",
    "      price = Shopper.__prices.get(item, Shopper.__default_price)\n",
    "      if item in Shopper.__sale_items:\n",
    "        price *= Shopper.__sales_discount\n",
    "      self.__bought_items.append((item, price))\n",
    "      total_cost += price\n",
    "\n",
    "    if total_cost > Shopper.__credit_threshold:\n",
    "      total_cost *= Shopper.__volume_discount\n",
    "\n",
    "    self.__cash_amt -= total_cost"
   ]
  },
  {
   "cell_type": "code",
   "execution_count": 27,
   "metadata": {},
   "outputs": [
    {
     "name": "stdout",
     "output_type": "stream",
     "text": [
      "Price dict: {'apple': 1.99, 'bread': 2.19, 'milk': 4.96, 'pepper': 1.25}\n",
      "Sales list: ['pepper', 'banana']\n",
      "\n",
      "Narendra cash in hand is $20.00\n",
      "items:\n",
      "[]\n",
      "\n",
      "Narendra is purchasing: ['bread', 'milk']\n",
      "Narendra cash in hand is $13.56\n",
      "items:\n",
      "[('bread', 2.19), ('milk', 4.96)]\n",
      "\n",
      "Narendra is purchasing: ['apple', 'pepper', 'cauliflower']\n",
      "Narendra cash in hand is $8.01\n",
      "items:\n",
      "[('bread', 2.19), ('milk', 4.96), ('apple', 1.99), ('pepper', 1.0625), ('cauliflower', 2.5)]\n",
      "\n",
      "Public members of the class: ['name', 'price_list', 'purchase', 'sale_items']\n",
      "Public properties: ['name']\n",
      "Public methods: ['price_list', 'purchase', 'sale_items']\n"
     ]
    }
   ],
   "source": [
    "print(f'Price dict: {Shopper.price_list()}')\n",
    "print(f'Sales list: {Shopper.sale_items()}')\n",
    "\n",
    "nar = Shopper('Narendra', 20)     #create a shopper object\n",
    "print(f'\\n{nar}')                 #display the object\n",
    "\n",
    "items = 'bread milk'.split()      #list of items to buy\n",
    "print(f'\\n{nar.name} is purchasing: {items}')\n",
    "nar.purchase(items)               #buy the items\n",
    "print(f'{nar}')                   #display the object\n",
    "\n",
    "items = 'apple pepper cauliflower'.split()\n",
    "print(f'\\n{nar.name} is purchasing: {items}')\n",
    "nar.purchase(items)\n",
    "print(f'{nar}')                   #display the object\n",
    "#you don't need to understand the code below\n",
    "#it is for verification purposes\n",
    "members = [member for member in dir(Shopper) if not member.startswith('_')]\n",
    "print(f'\\nPublic members of the class: {members}')\n",
    "properties = [member for member in members if not callable(getattr(Shopper, member))]\n",
    "print(f'Public properties: {properties}')   \n",
    "methods = [member for member in members if callable(getattr(Shopper, member))]\n",
    "print(f'Public methods: {methods}')"
   ]
  }
 ],
 "metadata": {
  "kernelspec": {
   "display_name": "base",
   "language": "python",
   "name": "python3"
  },
  "language_info": {
   "codemirror_mode": {
    "name": "ipython",
    "version": 3
   },
   "file_extension": ".py",
   "mimetype": "text/x-python",
   "name": "python",
   "nbconvert_exporter": "python",
   "pygments_lexer": "ipython3",
   "version": "3.9.18"
  }
 },
 "nbformat": 4,
 "nbformat_minor": 2
}
