{
 "cells": [
  {
   "cell_type": "code",
   "execution_count": 2,
   "metadata": {},
   "outputs": [],
   "source": [
    "# Design and build a class that will model inside temperature that has normal range will be 18-21 Celsius degree. Notice how the peaks do not occur at regular interval, nor are they the same height. Even the squiggles are the same shapes.\n",
    "# You will create a class with a single public member (property) that give you a “random” value in your intended range and properties. You should create a private method that actually generates a normalized value [a normalized value will be in the range 0 to 1]. And then transform this value by scaling and or transposing to the range that you are interested in. \n",
    "# Your class must have a fair amount of customization but at the same time should be easy to use, so provide a constructor with lots of default values. Make it so that you can generate your data by repeated accessing a property of the class instance. There must not be a limit to the number of values that you can get from your generator.\n",
    "# You should also provide a method that will return a list of values. This method should take a single argument that will be the number of values to return. If the argument is not provided, the method should return a list of 10 values. If the argument is provided, the method should return a list of that many values.\n",
    "\n",
    "import random\n",
    "import matplotlib.pyplot as plt\n",
    "\n",
    "class TemperatureGenerator:\n",
    "  def __init__(self, max_data_points = 500, low_temp=18.0, high_temp=21.0, seed=None):\n",
    "    self.__max_data_points = max_data_points\n",
    "    self.__low_temp = low_temp\n",
    "    self.__high_temp = high_temp\n",
    "    random.seed(seed)\n",
    "  \n",
    "  def __generate_normalized_values(self):\n",
    "    return random.random()\n",
    "\n",
    "  @property\n",
    "  def temperature(self):\n",
    "    return self.__low_temp + (self.__high_temp - self.__low_temp) * self.__generate_normalized_values()\n",
    "  \n",
    "  def generate_temperature(self):\n",
    "    return [self.temperature for _ in range(self.__max_data_points)]\n",
    "\n",
    "  def plot_temperature(self):\n",
    "    plt.plot(self.generate_temperature())\n",
    "    plt.xlabel(\"Time\")\n",
    "    plt.ylabel(\"Temperature\")\n",
    "    plt.title(\"Temperature Data\")\n",
    "    plt.show()\n"
   ]
  },
  {
   "cell_type": "code",
   "execution_count": 3,
   "metadata": {},
   "outputs": [
    {
     "ename": "AttributeError",
     "evalue": "'TemperatureGenerator' object has no attribute '__generate_normalized_values'",
     "output_type": "error",
     "traceback": [
      "\u001b[0;31m---------------------------------------------------------------------------\u001b[0m",
      "\u001b[0;31mAttributeError\u001b[0m                            Traceback (most recent call last)",
      "Cell \u001b[0;32mIn[3], line 2\u001b[0m\n\u001b[1;32m      1\u001b[0m temp_generator \u001b[38;5;241m=\u001b[39m TemperatureGenerator(seed\u001b[38;5;241m=\u001b[39m\u001b[38;5;241m2\u001b[39m)\n\u001b[0;32m----> 2\u001b[0m \u001b[43mtemp_generator\u001b[49m\u001b[38;5;241;43m.\u001b[39;49m\u001b[43m__generate_normalized_values\u001b[49m()\n\u001b[1;32m      3\u001b[0m temp_generator\u001b[38;5;241m.\u001b[39mplot_temperature()\n",
      "\u001b[0;31mAttributeError\u001b[0m: 'TemperatureGenerator' object has no attribute '__generate_normalized_values'"
     ]
    }
   ],
   "source": [
    "temp_generator = TemperatureGenerator(seed=2)\n",
    "temp_generator.__generate_normalized_values()\n",
    "temp_generator.plot_temperature()"
   ]
  }
 ],
 "metadata": {
  "kernelspec": {
   "display_name": "base",
   "language": "python",
   "name": "python3"
  },
  "language_info": {
   "codemirror_mode": {
    "name": "ipython",
    "version": 3
   },
   "file_extension": ".py",
   "mimetype": "text/x-python",
   "name": "python",
   "nbconvert_exporter": "python",
   "pygments_lexer": "ipython3",
   "version": "3.9.18"
  }
 },
 "nbformat": 4,
 "nbformat_minor": 2
}
