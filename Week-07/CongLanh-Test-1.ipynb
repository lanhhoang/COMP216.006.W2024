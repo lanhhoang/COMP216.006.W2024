{
 "cells": [
  {
   "cell_type": "code",
   "execution_count": 4,
   "metadata": {},
   "outputs": [
    {
     "name": "stdout",
     "output_type": "stream",
     "text": [
      "The sum of the first 100 multiples of 13 is 65650\n"
     ]
    }
   ],
   "source": [
    "# Question 1\n",
    "# Write the statements that will sum the first 100 multiple of 13. You must not use number in your code i.e. you must use variables.\n",
    " \n",
    "# Your final output must be like:\n",
    "# The sum of the first 100 multiples of 13 is {answer}\n",
    "\n",
    "def sum_of_multiples(num, count):\n",
    "  sum = 0\n",
    "  for i in range(1, count + 1):\n",
    "    sum += num * i\n",
    "\n",
    "  return sum\n",
    "\n",
    "answer = sum_of_multiples(13, 100)\n",
    "print(f\"The sum of the first 100 multiples of 13 is {answer}\")"
   ]
  },
  {
   "cell_type": "code",
   "execution_count": 31,
   "metadata": {},
   "outputs": [
    {
     "name": "stdout",
     "output_type": "stream",
     "text": [
      "['npershad', 'yli', 'hlac', 'inika', 'nmodi', 'pgignac', 'atapia', 'mtiranda', 'jli', 'mhabayeb', 'nzouri', 'vvaithil']\n"
     ]
    }
   ],
   "source": [
    "# Question 2\n",
    "# Write the statements to create and display a list of the login ids of your instructors. An id is first initial and last\n",
    "# name to a maximum of eight characters. You must read the names from the file \"wk07b_ques2.txt\". You must not use hard coded\n",
    "# strings in your code. i.e. you must use variables.\n",
    "# [Hint: to remove the trailing new line at the end, use strip('\\n').]\n",
    "\n",
    "# Your final output must be like:\n",
    "# ['npershad', 'yli', 'hlac', 'inika', 'nmodi', 'pgignac', 'atapia', 'mtiranda', 'jli', 'mhabayeb', 'nzouri', 'vvaithil']\n",
    "\n",
    "from pathlib import Path\n",
    "\n",
    "file_name = \"./wk07b_ques2.txt\"\n",
    "# file_path = Path.cwd() / file_name\n",
    "\n",
    "def read_file(file_name):\n",
    "  with open(file_path, \"r\") as file:\n",
    "    return [name.strip(\"\\n\") for name in file]\n",
    "  \n",
    "def create_login_ids(names):\n",
    "  login_ids = []\n",
    "\n",
    "  for name in names:\n",
    "    first_name, last_name = name.lower().split(\" \")\n",
    "    login_id = first_name[0] + last_name[:7]\n",
    "    login_ids.append(login_id)\n",
    "\n",
    "  return login_ids\n",
    "\n",
    "names = read_file(file_path)\n",
    "login_ids = create_login_ids(names)\n",
    "print(login_ids)\n"
   ]
  },
  {
   "cell_type": "code",
   "execution_count": 14,
   "metadata": {},
   "outputs": [
    {
     "name": "stdout",
     "output_type": "stream",
     "text": [
      "Investing $10000.00 for 10mos at 2.15% will yield $12370.40\n"
     ]
    }
   ],
   "source": [
    "# Question 3\n",
    "# Write a function to take three arguments: the starting balance, interest rate and period. The function should calculate \n",
    "# and return the final balance at the end of the period. You will have to calculate the balance at the end of each period.\n",
    "# balance = starting balance * interest rate\n",
    "# N.B. The balance at the end of a period will be the starting balance of the next period\n",
    "# The code statements:\n",
    "# principle = 10000\n",
    "# rate = 0.0215\n",
    "# period = 10\n",
    "# balance = interest(principal, rate, period)\n",
    "\n",
    "# print(f'Investing ${principal:.2f} for {period}mos at {rate}% will yield ${balance:.2f}')\n",
    "\n",
    "# Will give the following output:\n",
    "\n",
    "# Investing $10000.00 for 10mos at 0.0215% will yield $12370.40\n",
    "\n",
    "def calc_final_balance(principal, rate, period):\n",
    "  balance = principal\n",
    "\n",
    "  for _ in range(period):\n",
    "    interest = balance * rate\n",
    "    balance += interest\n",
    "\n",
    "  return balance\n",
    "\n",
    "principal = 10000\n",
    "rate = 0.0215\n",
    "period = 10\n",
    "balance = calc_final_balance(principal, rate, period)\n",
    "\n",
    "print(f\"Investing ${principal:.2f} for {period}mos at {rate * 100}% will yield ${balance:.2f}\")"
   ]
  },
  {
   "cell_type": "code",
   "execution_count": 30,
   "metadata": {},
   "outputs": [
    {
     "name": "stdout",
     "output_type": "stream",
     "text": [
      "All letters: ['c', 'o', 'n', 'g', 'l', 'a', 'n', 'h', 'h', 'o', 'a', 'n', 'g']\n",
      "All unique letters: ['h', 'o', 'n', 'c', 'l', 'a', 'g']\n",
      "All letters but vowels: ['c', 'n', 'g', 'l', 'n', 'h', 'h', 'n', 'g']\n",
      "List of tuples: [(0, 'C'), (1, 'o'), (2, 'n'), (3, 'g'), (4, ' '), (5, 'L'), (6, 'a'), (7, 'n'), (8, 'h'), (9, ' '), (10, 'H'), (11, 'o'), (12, 'a'), (13, 'n'), (14, 'g')]\n",
      "Dictionary: {'c': 99, 'o': 111, 'n': 110, 'g': 103, ' ': 32, 'l': 108, 'a': 97, 'h': 104}\n",
      "Prime numbers: [2, 3, 5, 7]\n"
     ]
    }
   ],
   "source": [
    "# Question 4\n",
    "# Use list comprehension to:\n",
    "# Identify all letters of your full name\n",
    "# Identify all unique letters of your full name\n",
    "# Identify all letters but vowels ('a', 'e', 'i', 'o', 'u') of your full name\n",
    "# Create a list of tuples using all characters of your name and index (e.g [(0, 'J'), (1, 'o'), (2, 'h'), (3, 'n'), (4, ' '), (5, 'd'), (6, 'o'), (7, 'e')]\n",
    "# Create a dictionary using all lower-case characters of your name & corresponding ASCII values (e.g {'j': 0, 'o': 6, 'h': 2, 'n': 3, ' ': 4, 'd': 5, 'e': 7}\n",
    "# Write a method to calculate prime numbers of a given number (e.g. def prime_numbers (10): should return  [2, 3, 5, 7]\n",
    "\n",
    "full_name = \"Cong Lanh Hoang\"\n",
    "# Identify all letters of your full name\n",
    "letters = list(full_name.lower().replace(\" \", \"\"))\n",
    "print(f\"All letters: {letters}\")\n",
    "\n",
    "# Identify all unique letters of your full name\n",
    "unique_letters = list(set(letters))\n",
    "print(f\"All unique letters: {unique_letters}\")\n",
    "\n",
    "# Identify all letters but vowels ('a', 'e', 'i', 'o', 'u') of your full name\n",
    "vowels = [\"a\", \"e\", \"i\", \"o\", \"u\"]\n",
    "non_vowel_letters = [letter for letter in letters if letter not in vowels]\n",
    "print(f\"All letters but vowels: {non_vowel_letters}\")\n",
    "\n",
    "# Create a list of tuples using all characters of your name and index\n",
    "# (e.g [(0, 'J'), (1, 'o'), (2, 'h'), (3, 'n'), (4, ' '), (5, 'd'), (6, 'o'), (7, 'e')]\n",
    "name_tuples = list(enumerate(full_name))\n",
    "print(f\"List of tuples: {name_tuples}\")\n",
    "\n",
    "# Create a dictionary using all lower-case characters of your name & corresponding ASCII values\n",
    "# (e.g {'j': 0, 'o': 6, 'h': 2, 'n': 3, ' ': 4, 'd': 5, 'e': 7}\n",
    "ascii_dict = {letter: ord(letter) for letter in full_name.lower()}\n",
    "print(f\"Dictionary: {ascii_dict}\")\n",
    "\n",
    "# Write a method to calculate prime numbers of a given number (e.g. def prime_numbers (10): should return  [2, 3, 5, 7]\n",
    "def prime_numbers(num):\n",
    "  primes = []\n",
    "\n",
    "  for i in range(2, num + 1):\n",
    "    is_prime = True\n",
    "    for j in range(2, i):\n",
    "      if i % j == 0:\n",
    "        is_prime = False\n",
    "        break\n",
    "\n",
    "    if is_prime:\n",
    "      primes.append(i)\n",
    "\n",
    "  return primes\n",
    "\n",
    "print(f\"Prime numbers: {prime_numbers(10)}\")\n"
   ]
  }
 ],
 "metadata": {
  "kernelspec": {
   "display_name": "base",
   "language": "python",
   "name": "python3"
  },
  "language_info": {
   "codemirror_mode": {
    "name": "ipython",
    "version": 3
   },
   "file_extension": ".py",
   "mimetype": "text/x-python",
   "name": "python",
   "nbconvert_exporter": "python",
   "pygments_lexer": "ipython3",
   "version": "3.9.18"
  }
 },
 "nbformat": 4,
 "nbformat_minor": 2
}
