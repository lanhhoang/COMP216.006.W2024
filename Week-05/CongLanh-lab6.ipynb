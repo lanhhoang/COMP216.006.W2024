{
 "cells": [
  {
   "cell_type": "code",
   "execution_count": 1,
   "metadata": {},
   "outputs": [],
   "source": [
    "# Lab 6: Threads (continued)\n",
    "\n",
    "import requests\n",
    "\n",
    "from os import system\n",
    "from pathlib import Path\n",
    "from time import perf_counter\n",
    "from threading import Thread"
   ]
  },
  {
   "cell_type": "code",
   "execution_count": 2,
   "metadata": {},
   "outputs": [],
   "source": [
    "img_urls = [ \n",
    "  'https://images.unsplash.com/photo-1504208434309-cb69f4fe52b0',\n",
    "  'https://images.unsplash.com/photo-1485833077593-4278bba3f11f',\n",
    "  'https://images.unsplash.com/photo-1593179357196-ea11a2e7c119',\n",
    "  'https://images.unsplash.com/photo-1526515579900-98518e7862cc',\n",
    "  'https://images.unsplash.com/photo-1582376432754-b63cc6a9b8c3',\n",
    "  'https://images.unsplash.com/photo-1567608198472-6796ad9466a2',\n",
    "  'https://images.unsplash.com/photo-1487213802982-74d73802997c',\n",
    "  'https://images.unsplash.com/photo-1552762578-220c07490ea1',\n",
    "  'https://images.unsplash.com/photo-1569691105751-88df003de7a4',\n",
    "  'https://images.unsplash.com/photo-1590691566903-692bf5ca7493',\n",
    "  'https://images.unsplash.com/photo-1497206365907-f5e630693df0',\n",
    "  'https://images.unsplash.com/photo-1469765904976-5f3afbf59dfb' \n",
    "]"
   ]
  },
  {
   "cell_type": "code",
   "execution_count": 3,
   "metadata": {},
   "outputs": [],
   "source": [
    "def download_image(url):\n",
    "    filename = f\"{url.split('/')[-1]}.jpg\"\n",
    "    filepath = Path(f\"./images/{filename}\")\n",
    "    filepath.parent.mkdir(parents=True, exist_ok=True)\n",
    "    response = requests.get(url)\n",
    "    if response.status_code == 200:\n",
    "        with open(filepath, \"wb\") as file:\n",
    "            file.write(response.content)\n",
    "        print(f\"Image {filename} downloaded successfully.\")\n",
    "    else:\n",
    "        print(f\"Failed to download image {filename}.\")"
   ]
  },
  {
   "cell_type": "code",
   "execution_count": 4,
   "metadata": {},
   "outputs": [],
   "source": [
    "# Part A\n",
    "# 1. Start timer. [import the time module use time.perf_counter() to get the current time.] \n",
    "# 2. Call the function in Part A with arguments from the above list sequentially (download one after the previous download is completed). \n",
    "# 3. End timer. [again use time.perf_counter() to get the current time.] \n",
    "# 4. Print elapse times. [subtract (1) from (2).]\n",
    "\n",
    "def download_images_sequentially():\n",
    "    start_time = perf_counter()\n",
    "    for url in img_urls:\n",
    "        download_image(url)\n",
    "    end_time = perf_counter()\n",
    "    print(f\"Elapsed time: {round(end_time - start_time, 2)} seconds.\")\n",
    "    # run shell command to remove images folder\n",
    "    system(\"rm -rf images\")"
   ]
  },
  {
   "cell_type": "code",
   "execution_count": 5,
   "metadata": {},
   "outputs": [],
   "source": [
    "# Part B \n",
    "# 1. Start timer. \n",
    "# 2. In a threaded fashion, call the function in Part A with an argument from the above list. [see wk03_d2_threading.py.] \n",
    "# 3. End timer. \n",
    "# 4. Print elapse times. \n",
    "\n",
    "def download_images_threaded():\n",
    "    start_time = perf_counter()\n",
    "    threads = []\n",
    "    for url in img_urls:\n",
    "        thread = Thread(target=download_image, args=(url,))\n",
    "        threads.append(thread)\n",
    "        thread.start()\n",
    "    for thread in threads:\n",
    "        thread.join()\n",
    "    end_time = perf_counter()\n",
    "    print(f\"Elapsed time: {round(end_time - start_time, 2)} seconds.\")\n",
    "    # run shell command to remove images folder\n",
    "    system(\"rm -rf images\")"
   ]
  },
  {
   "cell_type": "code",
   "execution_count": 8,
   "metadata": {},
   "outputs": [
    {
     "name": "stdout",
     "output_type": "stream",
     "text": [
      "Image photo-1504208434309-cb69f4fe52b0.jpg downloaded successfully.\n",
      "Image photo-1485833077593-4278bba3f11f.jpg downloaded successfully.\n",
      "Image photo-1593179357196-ea11a2e7c119.jpg downloaded successfully.\n",
      "Image photo-1526515579900-98518e7862cc.jpg downloaded successfully.\n",
      "Image photo-1582376432754-b63cc6a9b8c3.jpg downloaded successfully.\n",
      "Image photo-1567608198472-6796ad9466a2.jpg downloaded successfully.\n",
      "Image photo-1487213802982-74d73802997c.jpg downloaded successfully.\n",
      "Image photo-1552762578-220c07490ea1.jpg downloaded successfully.\n",
      "Image photo-1569691105751-88df003de7a4.jpg downloaded successfully.\n",
      "Image photo-1590691566903-692bf5ca7493.jpg downloaded successfully.\n",
      "Image photo-1497206365907-f5e630693df0.jpg downloaded successfully.\n",
      "Image photo-1469765904976-5f3afbf59dfb.jpg downloaded successfully.\n",
      "Elapsed time: 9.59 seconds.\n"
     ]
    }
   ],
   "source": [
    "download_images_sequentially()"
   ]
  },
  {
   "cell_type": "code",
   "execution_count": 9,
   "metadata": {},
   "outputs": [
    {
     "name": "stdout",
     "output_type": "stream",
     "text": [
      "Image photo-1504208434309-cb69f4fe52b0.jpg downloaded successfully.\n",
      "Image photo-1582376432754-b63cc6a9b8c3.jpg downloaded successfully.\n",
      "Image photo-1593179357196-ea11a2e7c119.jpg downloaded successfully.\n",
      "Image photo-1497206365907-f5e630693df0.jpg downloaded successfully.\n",
      "Image photo-1569691105751-88df003de7a4.jpg downloaded successfully.\n",
      "Image photo-1487213802982-74d73802997c.jpg downloaded successfully.\n",
      "Image photo-1469765904976-5f3afbf59dfb.jpg downloaded successfully.\n",
      "Image photo-1590691566903-692bf5ca7493.jpg downloaded successfully.\n",
      "Image photo-1526515579900-98518e7862cc.jpg downloaded successfully.\n",
      "Image photo-1552762578-220c07490ea1.jpg downloaded successfully.\n",
      "Image photo-1485833077593-4278bba3f11f.jpg downloaded successfully.\n",
      "Image photo-1567608198472-6796ad9466a2.jpg downloaded successfully.\n",
      "Elapsed time: 4.11 seconds.\n"
     ]
    }
   ],
   "source": [
    "download_images_threaded()"
   ]
  }
 ],
 "metadata": {
  "kernelspec": {
   "display_name": "base",
   "language": "python",
   "name": "python3"
  },
  "language_info": {
   "codemirror_mode": {
    "name": "ipython",
    "version": 3
   },
   "file_extension": ".py",
   "mimetype": "text/x-python",
   "name": "python",
   "nbconvert_exporter": "python",
   "pygments_lexer": "ipython3",
   "version": "3.9.18"
  }
 },
 "nbformat": 4,
 "nbformat_minor": 2
}
